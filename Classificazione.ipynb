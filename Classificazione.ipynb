{
 "cells": [
  {
   "cell_type": "code",
   "execution_count": 1,
   "metadata": {},
   "outputs": [],
   "source": [
    "import pandas as pd\n",
    "\n",
    "preprocessed_accidents_df = pd.read_csv('dataset/pre-processed_dataset_no_state.csv')\n"
   ]
  },
  {
   "cell_type": "code",
   "execution_count": 2,
   "metadata": {},
   "outputs": [],
   "source": [
    "preprocessed_accidents_df.drop('Unnamed: 0',axis=1,inplace=True)"
   ]
  },
  {
   "cell_type": "code",
   "execution_count": 3,
   "metadata": {},
   "outputs": [
    {
     "data": {
      "text/plain": [
       "<bound method Series.info of 0         1\n",
       "1         0\n",
       "2         0\n",
       "3         0\n",
       "4         1\n",
       "         ..\n",
       "606663    0\n",
       "606664    0\n",
       "606665    0\n",
       "606666    0\n",
       "606667    0\n",
       "Name: Severity, Length: 606668, dtype: int64>"
      ]
     },
     "execution_count": 3,
     "metadata": {},
     "output_type": "execute_result"
    }
   ],
   "source": [
    "\n",
    "preprocessed_accidents_df['Severity'].info"
   ]
  },
  {
   "cell_type": "code",
   "execution_count": 4,
   "metadata": {},
   "outputs": [
    {
     "name": "stdout",
     "output_type": "stream",
     "text": [
      "Index(['Severity', 'Start_Lat', 'Start_Lng', 'End_Lat', 'End_Lng',\n",
      "       'Distance(mi)', 'Side', 'Temperature', 'Wind_Chill', 'Humidity',\n",
      "       ...\n",
      "       'Thunder / Windy', 'Thunder and Hail / Windy',\n",
      "       'Thunder in the Vicinity', 'Thunderstorm', 'Thunderstorms and Rain',\n",
      "       'Tornado', 'Volcanic Ash', 'Widespread Dust', 'Wintry Mix',\n",
      "       'Wintry Mix / Windy'],\n",
      "      dtype='object', length=125)\n"
     ]
    }
   ],
   "source": [
    "print(preprocessed_accidents_df.columns)"
   ]
  },
  {
   "cell_type": "code",
   "execution_count": 5,
   "metadata": {},
   "outputs": [],
   "source": [
    "from numpy import mean\n",
    "from sklearn.pipeline import Pipeline\n",
    "from sklearn.model_selection import cross_validate\n",
    "from sklearn.metrics import accuracy_score, f1_score, make_scorer\n",
    "from sklearn.model_selection import StratifiedKFold\n",
    "from sklearn.feature_selection import SelectKBest\n",
    "from sklearn.preprocessing import OneHotEncoder, StandardScaler \n",
    "from imblearn.over_sampling._smote.base import SMOTE, Counter\n",
    "from imblearn.under_sampling import RandomUnderSampler\n",
    "\n",
    "def robe(X,y):\n",
    "    oversampler = SMOTE()\n",
    "    oversampler.fit_resample(X,y)\n",
    "\n",
    "def execute_classifier(classifier):\n",
    "\n",
    "    y = preprocessed_accidents_df['Severity']\n",
    "    X = preprocessed_accidents_df.drop('Severity',axis=1)\n",
    "\n",
    "    pipeline_estimators = [('scaling',StandardScaler()),('clf',classifier)]\n",
    "    pipe = Pipeline(pipeline_estimators)\n",
    "    skf = StratifiedKFold(10, shuffle = True, random_state = 21)\n",
    "\n",
    "    oversampler = SMOTE()\n",
    "    X,y = oversampler.fit_resample(X,y)\n",
    "\n",
    "    results_validation = cross_validate(pipe, # In previous notebook we had just a classifier here, mentre ora possiamo mettere tutta la pipeline\n",
    "                        X,\n",
    "                        y,\n",
    "                        scoring = {'fscore': make_scorer(f1_score),\n",
    "                                   'accuracy': make_scorer(accuracy_score)},\n",
    "                        error_score= 'raise',\n",
    "                        return_estimator = True,\n",
    "                        cv = skf,\n",
    "                        n_jobs = -1) \n",
    "    \n",
    "    metrics = results_validation['test_fscore']\n",
    "    accuracy = results_validation['accuracy']\n",
    "\n",
    "    print(results_validation)\n",
    "    print(\"Mean fscore: \",mean(metrics))\n",
    "    print(\"Mean fscore: \",mean(accuracy))\n"
   ]
  },
  {
   "cell_type": "code",
   "execution_count": null,
   "metadata": {},
   "outputs": [],
   "source": [
    "from sklearn.tree import DecisionTreeClassifier\n",
    "\n",
    "decisionTree = DecisionTreeClassifier()\n",
    "execute_classifier(decisionTree)"
   ]
  },
  {
   "cell_type": "code",
   "execution_count": null,
   "metadata": {},
   "outputs": [],
   "source": [
    "from sklearn.ensemble import RandomForestClassifier\n",
    "\n",
    "#randomForest = RandomForestClassifier()\n",
    "#execute_classifier(randomForest)"
   ]
  },
  {
   "cell_type": "code",
   "execution_count": null,
   "metadata": {},
   "outputs": [
    {
     "name": "stdout",
     "output_type": "stream",
     "text": [
      "{'fit_time': array([119.66011453, 100.90177321, 111.35708475, 117.54476237,\n",
      "       119.09503818, 103.36034012, 116.31495428, 117.6784029 ,\n",
      "       111.45631433, 110.21142077]), 'score_time': array([0.42155457, 1.43949461, 0.91348338, 0.54908729, 0.52752852,\n",
      "       1.87188005, 0.79389906, 0.65492034, 0.96534991, 1.13941073]), 'estimator': [Pipeline(steps=[('scaling', StandardScaler()), ('clf', LogisticRegression())]), Pipeline(steps=[('scaling', StandardScaler()), ('clf', LogisticRegression())]), Pipeline(steps=[('scaling', StandardScaler()), ('clf', LogisticRegression())]), Pipeline(steps=[('scaling', StandardScaler()), ('clf', LogisticRegression())]), Pipeline(steps=[('scaling', StandardScaler()), ('clf', LogisticRegression())]), Pipeline(steps=[('scaling', StandardScaler()), ('clf', LogisticRegression())]), Pipeline(steps=[('scaling', StandardScaler()), ('clf', LogisticRegression())]), Pipeline(steps=[('scaling', StandardScaler()), ('clf', LogisticRegression())]), Pipeline(steps=[('scaling', StandardScaler()), ('clf', LogisticRegression())]), Pipeline(steps=[('scaling', StandardScaler()), ('clf', LogisticRegression())])], 'test_fscore': array([0.80124456, 0.79973345, 0.80062732, 0.79808808, 0.80017318,\n",
      "       0.80182403, 0.79827251, 0.79863729, 0.80180464, 0.80131321]), 'test_accuracy': array([0.82905433, 0.827666  , 0.82862173, 0.82660966, 0.8281992 ,\n",
      "       0.82948692, 0.82659785, 0.82696003, 0.82940472, 0.82891176])}\n",
      "\n",
      "Mean:  0.8001718264463822\n"
     ]
    }
   ],
   "source": [
    "from sklearn.linear_model import LogisticRegression\n",
    "\n",
    "#logisticRegression = LogisticRegression()\n",
    "#execute_classifier(logisticRegression)"
   ]
  },
  {
   "cell_type": "code",
   "execution_count": null,
   "metadata": {},
   "outputs": [],
   "source": [
    "from sklearn.neighbors import KNeighborsClassifier\n",
    "knn = KNeighborsClassifier(10) \n",
    "execute_classifier(knn)"
   ]
  },
  {
   "cell_type": "code",
   "execution_count": null,
   "metadata": {},
   "outputs": [],
   "source": [
    "from sklearn.ensemble import AdaBoostClassifier\n",
    "\n",
    "#adaboost = AdaBoostClassifier()\n",
    "#execute_classifier(adaboost)"
   ]
  },
  {
   "cell_type": "code",
   "execution_count": null,
   "metadata": {},
   "outputs": [],
   "source": []
  }
 ],
 "metadata": {
  "kernelspec": {
   "display_name": "dmml",
   "language": "python",
   "name": "python3"
  },
  "language_info": {
   "codemirror_mode": {
    "name": "ipython",
    "version": 3
   },
   "file_extension": ".py",
   "mimetype": "text/x-python",
   "name": "python",
   "nbconvert_exporter": "python",
   "pygments_lexer": "ipython3",
   "version": "3.9.13"
  },
  "orig_nbformat": 4
 },
 "nbformat": 4,
 "nbformat_minor": 2
}
