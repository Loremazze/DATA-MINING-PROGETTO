{
 "cells": [
  {
   "cell_type": "code",
   "execution_count": 28,
   "metadata": {},
   "outputs": [],
   "source": [
    "import pandas as pd\n",
    "\n",
    "preprocessed_accidents_df = pd.read_csv('dataset/pre-processed_dataset_no_state.csv')\n"
   ]
  },
  {
   "cell_type": "code",
   "execution_count": 29,
   "metadata": {},
   "outputs": [],
   "source": [
    "preprocessed_accidents_df.drop('Unnamed: 0',axis=1,inplace=True)"
   ]
  },
  {
   "cell_type": "code",
   "execution_count": 30,
   "metadata": {},
   "outputs": [
    {
     "data": {
      "text/plain": [
       "<bound method Series.info of 0         1.0\n",
       "1         0.0\n",
       "2         0.0\n",
       "3         0.0\n",
       "4         1.0\n",
       "         ... \n",
       "606663    0.0\n",
       "606664    0.0\n",
       "606665    0.0\n",
       "606666    0.0\n",
       "606667    0.0\n",
       "Name: Severity, Length: 606668, dtype: float64>"
      ]
     },
     "execution_count": 30,
     "metadata": {},
     "output_type": "execute_result"
    }
   ],
   "source": [
    "\n",
    "preprocessed_accidents_df['Severity'].info"
   ]
  },
  {
   "cell_type": "code",
   "execution_count": 31,
   "metadata": {},
   "outputs": [
    {
     "name": "stdout",
     "output_type": "stream",
     "text": [
      "Index(['Severity', 'Start_Lat', 'Start_Lng', 'End_Lat', 'End_Lng',\n",
      "       'Distance(mi)', 'Side', 'Temperature', 'Wind_Chill', 'Humidity',\n",
      "       ...\n",
      "       'Thunder / Windy', 'Thunder and Hail / Windy',\n",
      "       'Thunder in the Vicinity', 'Thunderstorm', 'Thunderstorms and Rain',\n",
      "       'Tornado', 'Volcanic Ash', 'Widespread Dust', 'Wintry Mix',\n",
      "       'Wintry Mix / Windy'],\n",
      "      dtype='object', length=125)\n"
     ]
    }
   ],
   "source": [
    "print(preprocessed_accidents_df.columns)"
   ]
  },
  {
   "attachments": {},
   "cell_type": "markdown",
   "metadata": {},
   "source": [
    "Cross-Validation here is carried out, giving the still high number of records, Oversampling (through SMOTE) is used in combination with Undersampling (through RandomUnderSampler) to get the best result possible"
   ]
  },
  {
   "cell_type": "code",
   "execution_count": 32,
   "metadata": {},
   "outputs": [],
   "source": [
    "from numpy import mean\n",
    "from sklearn.pipeline import Pipeline\n",
    "from sklearn.model_selection import cross_validate\n",
    "from sklearn.metrics import accuracy_score, f1_score, make_scorer\n",
    "from sklearn.model_selection import StratifiedKFold\n",
    "from sklearn.feature_selection import SelectKBest\n",
    "from sklearn.preprocessing import OneHotEncoder, StandardScaler \n",
    "from imblearn.over_sampling._smote.base import SMOTE, Counter\n",
    "from imblearn.under_sampling import RandomUnderSampler\n",
    "from matplotlib import pyplot as plt\n",
    "\n",
    "def execute_classifier(classifier):\n",
    "\n",
    "    y = preprocessed_accidents_df['Severity']\n",
    "    X = preprocessed_accidents_df.drop('Severity',axis=1)\n",
    "\n",
    "    oversampler = SMOTE()\n",
    "    X,y = oversampler.fit_resample(X,y)\n",
    "\n",
    "    sampler = RandomUnderSampler(sampling_strategy = {0:50000,1:50000},random_state=42)\n",
    "    X, y = sampler.fit_resample(X, y)\n",
    "\n",
    "    pipeline_estimators = [('scaling',StandardScaler()),('clf',classifier)]\n",
    "    pipe = Pipeline(pipeline_estimators)\n",
    "    skf = StratifiedKFold(10, shuffle = True, random_state = 21)\n",
    "\n",
    "    results_validation = cross_validate(pipe, \n",
    "                        X,\n",
    "                        y,\n",
    "                        scoring = {'fscore': make_scorer(f1_score),\n",
    "                                   'accuracy': make_scorer(accuracy_score)},\n",
    "                        error_score= 'raise',\n",
    "                        return_estimator = True,\n",
    "                        cv = skf,\n",
    "                        n_jobs = -1) \n",
    "    \n",
    "    metrics = results_validation['test_fscore']\n",
    "\n",
    "    #print(results_validation)\n",
    "    print(\"Mean fscore: \",mean(metrics))\n",
    "\n",
    "\n",
    "    pipeline_estimators_fsel = [('scaling',StandardScaler()),('feature-selection',SelectKBest(k=3)),('clf',classifier)]\n",
    "    pipe_fsel = Pipeline(pipeline_estimators_fsel)\n",
    "    skf_fsel = StratifiedKFold(10, shuffle = True, random_state = 21)\n",
    "\n",
    "    results_validation_fsel = cross_validate(pipe_fsel, \n",
    "                        X,\n",
    "                        y,\n",
    "                        scoring = {'fscore': make_scorer(f1_score),\n",
    "                                   'accuracy': make_scorer(accuracy_score)},\n",
    "                        error_score= 'raise',\n",
    "                        return_estimator = True,\n",
    "                        cv = skf_fsel,\n",
    "                        n_jobs = -1) \n",
    "    \n",
    "    metrics_fsel = results_validation_fsel['test_fscore']\n",
    "\n",
    "    #print(results_validation_fsel)\n",
    "    print(\"Mean fscore fsel: \",mean(metrics_fsel))\n",
    "\n",
    "    confront_metrics = pd.DataFrame({'fsel':results_validation_fsel['test_fscore'],\n",
    "                        'nofsel': results_validation['test_fscore']})\n",
    "    ax = confront_metrics.boxplot(figsize = (3,3))\n",
    "    ax.set_ylabel('f-score')\n",
    "    plt.show()"
   ]
  },
  {
   "cell_type": "code",
   "execution_count": 33,
   "metadata": {},
   "outputs": [
    {
     "name": "stdout",
     "output_type": "stream",
     "text": [
      "Mean fscore:  0.7989577571771374\n",
      "Mean fscore fsel:  0.6530840815455095\n"
     ]
    },
    {
     "data": {
      "image/png": "[encoded data removed]",
      "text/plain": [
       "<Figure size 300x300 with 1 Axes>"
      ]
     },
     "metadata": {},
     "output_type": "display_data"
    }
   ],
   "source": [
    "from sklearn.tree import DecisionTreeClassifier\n",
    "\n",
    "decisionTree = DecisionTreeClassifier(criterion='gini')\n",
    "execute_classifier(decisionTree)"
   ]
  },
  {
   "cell_type": "code",
   "execution_count": 34,
   "metadata": {},
   "outputs": [],
   "source": [
    "from sklearn.tree import DecisionTreeClassifier\n",
    "\n",
    "decisionTree = DecisionTreeClassifier(criterion='entropy')\n",
    "execute_classifier(decisionTree)"
   ]
  },
  {
   "cell_type": "code",
   "execution_count": null,
   "metadata": {},
   "outputs": [
    {
     "name": "stdout",
     "output_type": "stream",
     "text": [
      "Mean fscore:  0.8583280936570548\n",
      "Mean fscore fsel:  0.6850462763764968\n"
     ]
    },
    {
     "data": {
      "image/png": "[encoded data removed]",
      "text/plain": [
       "<Figure size 300x300 with 1 Axes>"
      ]
     },
     "metadata": {},
     "output_type": "display_data"
    }
   ],
   "source": [
    "from sklearn.ensemble import RandomForestClassifier\n",
    "\n",
    "randomForest = RandomForestClassifier(criterion='gini')\n",
    "execute_classifier(randomForest)"
   ]
  },
  {
   "cell_type": "code",
   "execution_count": null,
   "metadata": {},
   "outputs": [
    {
     "name": "stdout",
     "output_type": "stream",
     "text": [
      "{'fit_time': array([77.27689648, 76.90131283, 80.31797886, 78.63961816, 79.10715222,\n",
      "       78.29625344, 79.06547213, 79.18587875, 79.14623237, 80.10389757]), 'score_time': array([0.78256583, 0.77650285, 0.81225324, 0.83304715, 0.82048702,\n",
      "       0.82347775, 0.83852577, 0.7825675 , 0.67481065, 0.37783074]), 'estimator': [Pipeline(steps=[('scaling', StandardScaler()),\n",
      "                ('clf', RandomForestClassifier(criterion='entropy'))]), Pipeline(steps=[('scaling', StandardScaler()),\n",
      "                ('clf', RandomForestClassifier(criterion='entropy'))]), Pipeline(steps=[('scaling', StandardScaler()),\n",
      "                ('clf', RandomForestClassifier(criterion='entropy'))]), Pipeline(steps=[('scaling', StandardScaler()),\n",
      "                ('clf', RandomForestClassifier(criterion='entropy'))]), Pipeline(steps=[('scaling', StandardScaler()),\n",
      "                ('clf', RandomForestClassifier(criterion='entropy'))]), Pipeline(steps=[('scaling', StandardScaler()),\n",
      "                ('clf', RandomForestClassifier(criterion='entropy'))]), Pipeline(steps=[('scaling', StandardScaler()),\n",
      "                ('clf', RandomForestClassifier(criterion='entropy'))]), Pipeline(steps=[('scaling', StandardScaler()),\n",
      "                ('clf', RandomForestClassifier(criterion='entropy'))]), Pipeline(steps=[('scaling', StandardScaler()),\n",
      "                ('clf', RandomForestClassifier(criterion='entropy'))]), Pipeline(steps=[('scaling', StandardScaler()),\n",
      "                ('clf', RandomForestClassifier(criterion='entropy'))])], 'test_fscore': array([0.86185907, 0.86370187, 0.85782088, 0.85112968, 0.85317871,\n",
      "       0.86619502, 0.85714286, 0.8627653 , 0.86416452, 0.85971819]), 'test_accuracy': array([0.8661, 0.8676, 0.8622, 0.8557, 0.8582, 0.8695, 0.8608, 0.8668,\n",
      "       0.8679, 0.8646])}\n",
      "Mean fscore:  0.8597676114924753\n"
     ]
    }
   ],
   "source": [
    "from sklearn.ensemble import RandomForestClassifier\n",
    "\n",
    "randomForest = RandomForestClassifier(criterion='entropy')\n",
    "execute_classifier(randomForest)"
   ]
  },
  {
   "cell_type": "code",
   "execution_count": null,
   "metadata": {},
   "outputs": [
    {
     "name": "stdout",
     "output_type": "stream",
     "text": [
      "Mean fscore:  0.800243972298162\n",
      "Mean fscore fsel:  0.6155924766379408\n"
     ]
    },
    {
     "data": {
      "image/png": "[encoded data removed]",
      "text/plain": [
       "<Figure size 300x300 with 1 Axes>"
      ]
     },
     "metadata": {},
     "output_type": "display_data"
    }
   ],
   "source": [
    "from sklearn.linear_model import LogisticRegression\n",
    "\n",
    "logisticRegression = LogisticRegression()\n",
    "execute_classifier(logisticRegression)"
   ]
  },
  {
   "cell_type": "code",
   "execution_count": null,
   "metadata": {},
   "outputs": [
    {
     "name": "stdout",
     "output_type": "stream",
     "text": [
      "{'fit_time': array([2.80374956, 2.37329221, 2.21502924, 2.7838738 , 2.8101151 ,\n",
      "       2.55418587, 2.4724133 , 2.13726449, 1.69981885, 1.31630135]), 'score_time': array([0.04937673, 0.03964496, 0.05103087, 0.05101013, 0.07221508,\n",
      "       0.04183507, 0.03309178, 0.02829528, 0.02315378, 0.01909208]), 'estimator': [Pipeline(steps=[('scaling', StandardScaler()),\n",
      "                ('clf', LogisticRegression(class_weight='balanced'))]), Pipeline(steps=[('scaling', StandardScaler()),\n",
      "                ('clf', LogisticRegression(class_weight='balanced'))]), Pipeline(steps=[('scaling', StandardScaler()),\n",
      "                ('clf', LogisticRegression(class_weight='balanced'))]), Pipeline(steps=[('scaling', StandardScaler()),\n",
      "                ('clf', LogisticRegression(class_weight='balanced'))]), Pipeline(steps=[('scaling', StandardScaler()),\n",
      "                ('clf', LogisticRegression(class_weight='balanced'))]), Pipeline(steps=[('scaling', StandardScaler()),\n",
      "                ('clf', LogisticRegression(class_weight='balanced'))]), Pipeline(steps=[('scaling', StandardScaler()),\n",
      "                ('clf', LogisticRegression(class_weight='balanced'))]), Pipeline(steps=[('scaling', StandardScaler()),\n",
      "                ('clf', LogisticRegression(class_weight='balanced'))]), Pipeline(steps=[('scaling', StandardScaler()),\n",
      "                ('clf', LogisticRegression(class_weight='balanced'))]), Pipeline(steps=[('scaling', StandardScaler()),\n",
      "                ('clf', LogisticRegression(class_weight='balanced'))])], 'test_fscore': array([0.80420955, 0.79673469, 0.7964725 , 0.79747428, 0.79846315,\n",
      "       0.80399675, 0.80380114, 0.79749478, 0.80427708, 0.79757321]), 'test_accuracy': array([0.8307, 0.8257, 0.8246, 0.8268, 0.8269, 0.8313, 0.8307, 0.8254,\n",
      "       0.8316, 0.8265])}\n",
      "Mean fscore:  0.8000497127062195\n"
     ]
    }
   ],
   "source": [
    "from sklearn.linear_model import LogisticRegression\n",
    "\n",
    "logisticRegression = LogisticRegression(class_weight='balanced')\n",
    "execute_classifier(logisticRegression)"
   ]
  },
  {
   "cell_type": "code",
   "execution_count": null,
   "metadata": {},
   "outputs": [
    {
     "name": "stdout",
     "output_type": "stream",
     "text": [
      "{'fit_time': array([1.44004726, 1.4393518 , 1.44684863, 1.42453194, 1.24318171,\n",
      "       1.25592804, 1.38799024, 1.4298141 , 1.33961391, 1.2742672 ]), 'score_time': array([37.88413429, 38.14241147, 37.9719615 , 38.12571502, 37.63918424,\n",
      "       38.02799606, 36.88108063, 36.1492393 , 35.18088245, 33.53405046]), 'estimator': [Pipeline(steps=[('scaling', StandardScaler()),\n",
      "                ('clf', KNeighborsClassifier(n_neighbors=10))]), Pipeline(steps=[('scaling', StandardScaler()),\n",
      "                ('clf', KNeighborsClassifier(n_neighbors=10))]), Pipeline(steps=[('scaling', StandardScaler()),\n",
      "                ('clf', KNeighborsClassifier(n_neighbors=10))]), Pipeline(steps=[('scaling', StandardScaler()),\n",
      "                ('clf', KNeighborsClassifier(n_neighbors=10))]), Pipeline(steps=[('scaling', StandardScaler()),\n",
      "                ('clf', KNeighborsClassifier(n_neighbors=10))]), Pipeline(steps=[('scaling', StandardScaler()),\n",
      "                ('clf', KNeighborsClassifier(n_neighbors=10))]), Pipeline(steps=[('scaling', StandardScaler()),\n",
      "                ('clf', KNeighborsClassifier(n_neighbors=10))]), Pipeline(steps=[('scaling', StandardScaler()),\n",
      "                ('clf', KNeighborsClassifier(n_neighbors=10))]), Pipeline(steps=[('scaling', StandardScaler()),\n",
      "                ('clf', KNeighborsClassifier(n_neighbors=10))]), Pipeline(steps=[('scaling', StandardScaler()),\n",
      "                ('clf', KNeighborsClassifier(n_neighbors=10))])], 'test_fscore': array([0.82019623, 0.82354238, 0.82196887, 0.80929204, 0.82300983,\n",
      "       0.81951327, 0.81661356, 0.82001756, 0.82222222, 0.81284363]), 'test_accuracy': array([0.8369, 0.8399, 0.8376, 0.8276, 0.8397, 0.8361, 0.8331, 0.836 ,\n",
      "       0.8384, 0.8298])}\n",
      "Mean fscore:  0.818921957981979\n",
      "{'fit_time': array([0.86599994, 0.84144449, 0.48714185, 0.54658675, 0.80061531,\n",
      "       0.82727194, 0.87725163, 0.89731026, 0.84639907, 0.80331135]), 'score_time': array([31.51403308, 31.16549373, 30.30339956, 30.95588851, 31.38748741,\n",
      "       31.46940684, 31.09342051, 30.72554183, 30.04352784, 29.42267442]), 'estimator': [Pipeline(steps=[('scaling', StandardScaler()),\n",
      "                ('clf', KNeighborsClassifier(n_neighbors=9))]), Pipeline(steps=[('scaling', StandardScaler()),\n",
      "                ('clf', KNeighborsClassifier(n_neighbors=9))]), Pipeline(steps=[('scaling', StandardScaler()),\n",
      "                ('clf', KNeighborsClassifier(n_neighbors=9))]), Pipeline(steps=[('scaling', StandardScaler()),\n",
      "                ('clf', KNeighborsClassifier(n_neighbors=9))]), Pipeline(steps=[('scaling', StandardScaler()),\n",
      "                ('clf', KNeighborsClassifier(n_neighbors=9))]), Pipeline(steps=[('scaling', StandardScaler()),\n",
      "                ('clf', KNeighborsClassifier(n_neighbors=9))]), Pipeline(steps=[('scaling', StandardScaler()),\n",
      "                ('clf', KNeighborsClassifier(n_neighbors=9))]), Pipeline(steps=[('scaling', StandardScaler()),\n",
      "                ('clf', KNeighborsClassifier(n_neighbors=9))]), Pipeline(steps=[('scaling', StandardScaler()),\n",
      "                ('clf', KNeighborsClassifier(n_neighbors=9))]), Pipeline(steps=[('scaling', StandardScaler()),\n",
      "                ('clf', KNeighborsClassifier(n_neighbors=9))])], 'test_fscore': array([0.82078088, 0.82004702, 0.82256345, 0.81456811, 0.82201204,\n",
      "       0.82374254, 0.81561038, 0.82064352, 0.82682278, 0.82139812]), 'test_accuracy': array([0.832 , 0.8316, 0.8336, 0.8274, 0.8344, 0.8346, 0.8266, 0.8311,\n",
      "       0.8373, 0.8324])}\n",
      "Mean fscore:  0.8208188838176789\n",
      "{'fit_time': array([0.36430764, 0.44786024, 0.58826876, 0.75380111, 0.88802648,\n",
      "       0.75828314, 1.02338362, 1.15610957, 1.08540344, 1.75077605]), 'score_time': array([78.57224298, 78.82946992, 79.07757187, 78.44156575, 77.89938164,\n",
      "       77.88960934, 77.39004278, 76.16741872, 75.37710905, 73.65680122]), 'estimator': [Pipeline(steps=[('scaling', StandardScaler()),\n",
      "                ('clf', KNeighborsClassifier(n_neighbors=8))]), Pipeline(steps=[('scaling', StandardScaler()),\n",
      "                ('clf', KNeighborsClassifier(n_neighbors=8))]), Pipeline(steps=[('scaling', StandardScaler()),\n",
      "                ('clf', KNeighborsClassifier(n_neighbors=8))]), Pipeline(steps=[('scaling', StandardScaler()),\n",
      "                ('clf', KNeighborsClassifier(n_neighbors=8))]), Pipeline(steps=[('scaling', StandardScaler()),\n",
      "                ('clf', KNeighborsClassifier(n_neighbors=8))]), Pipeline(steps=[('scaling', StandardScaler()),\n",
      "                ('clf', KNeighborsClassifier(n_neighbors=8))]), Pipeline(steps=[('scaling', StandardScaler()),\n",
      "                ('clf', KNeighborsClassifier(n_neighbors=8))]), Pipeline(steps=[('scaling', StandardScaler()),\n",
      "                ('clf', KNeighborsClassifier(n_neighbors=8))]), Pipeline(steps=[('scaling', StandardScaler()),\n",
      "                ('clf', KNeighborsClassifier(n_neighbors=8))]), Pipeline(steps=[('scaling', StandardScaler()),\n",
      "                ('clf', KNeighborsClassifier(n_neighbors=8))])], 'test_fscore': array([0.82275567, 0.8185719 , 0.81819183, 0.81512512, 0.81574873,\n",
      "       0.82067603, 0.81308514, 0.82119785, 0.81843237, 0.81840194]), 'test_accuracy': array([0.8383, 0.8351, 0.8349, 0.8323, 0.8334, 0.8366, 0.8303, 0.8367,\n",
      "       0.8353, 0.835 ])}\n",
      "Mean fscore:  0.8182186584855824\n"
     ]
    }
   ],
   "source": [
    "from sklearn.neighbors import KNeighborsClassifier\n",
    "knn = KNeighborsClassifier(10) \n",
    "execute_classifier(knn)\n"
   ]
  },
  {
   "cell_type": "code",
   "execution_count": null,
   "metadata": {},
   "outputs": [],
   "source": [
    "from sklearn.neighbors import KNeighborsClassifier\n",
    "knn = KNeighborsClassifier(9) \n",
    "execute_classifier(knn)\n"
   ]
  },
  {
   "cell_type": "code",
   "execution_count": null,
   "metadata": {},
   "outputs": [
    {
     "name": "stdout",
     "output_type": "stream",
     "text": [
      "{'fit_time': array([0.69755697, 0.81140757, 0.86915827, 0.93648815, 1.06626177,\n",
      "       0.88075542, 0.86057663, 0.88437939, 0.87662196, 1.04228115]), 'score_time': array([32.36518049, 32.49140549, 33.04754257, 32.58686662, 32.3996799 ,\n",
      "       31.92925429, 31.47189999, 31.00158548, 30.33401513, 29.32037973]), 'estimator': [Pipeline(steps=[('scaling', StandardScaler()),\n",
      "                ('clf', KNeighborsClassifier(n_neighbors=8))]), Pipeline(steps=[('scaling', StandardScaler()),\n",
      "                ('clf', KNeighborsClassifier(n_neighbors=8))]), Pipeline(steps=[('scaling', StandardScaler()),\n",
      "                ('clf', KNeighborsClassifier(n_neighbors=8))]), Pipeline(steps=[('scaling', StandardScaler()),\n",
      "                ('clf', KNeighborsClassifier(n_neighbors=8))]), Pipeline(steps=[('scaling', StandardScaler()),\n",
      "                ('clf', KNeighborsClassifier(n_neighbors=8))]), Pipeline(steps=[('scaling', StandardScaler()),\n",
      "                ('clf', KNeighborsClassifier(n_neighbors=8))]), Pipeline(steps=[('scaling', StandardScaler()),\n",
      "                ('clf', KNeighborsClassifier(n_neighbors=8))]), Pipeline(steps=[('scaling', StandardScaler()),\n",
      "                ('clf', KNeighborsClassifier(n_neighbors=8))]), Pipeline(steps=[('scaling', StandardScaler()),\n",
      "                ('clf', KNeighborsClassifier(n_neighbors=8))]), Pipeline(steps=[('scaling', StandardScaler()),\n",
      "                ('clf', KNeighborsClassifier(n_neighbors=8))])], 'test_fscore': array([0.82456906, 0.81904134, 0.82145207, 0.8144398 , 0.81501994,\n",
      "       0.82553564, 0.81668857, 0.82035601, 0.81992084, 0.81201849]), 'test_accuracy': array([0.8392, 0.8354, 0.8372, 0.8314, 0.833 , 0.8404, 0.8326, 0.8355,\n",
      "       0.8362, 0.8292])}\n",
      "Mean fscore:  0.8189041754688494\n"
     ]
    }
   ],
   "source": [
    "from sklearn.neighbors import KNeighborsClassifier\n",
    "knn = KNeighborsClassifier(8) \n",
    "execute_classifier(knn)\n"
   ]
  },
  {
   "cell_type": "code",
   "execution_count": null,
   "metadata": {},
   "outputs": [
    {
     "name": "stdout",
     "output_type": "stream",
     "text": [
      "{'fit_time': array([0.86475921, 0.81589913, 0.45011497, 0.59678888, 0.77466273,\n",
      "       0.83440828, 0.78964686, 0.8292048 , 0.8568933 , 0.82737732]), 'score_time': array([31.06462026, 30.74762559, 29.99184036, 30.41615081, 30.73710608,\n",
      "       31.0694437 , 30.53415561, 30.14477587, 29.56055117, 28.88044405]), 'estimator': [Pipeline(steps=[('scaling', StandardScaler()),\n",
      "                ('clf', KNeighborsClassifier(n_neighbors=7))]), Pipeline(steps=[('scaling', StandardScaler()),\n",
      "                ('clf', KNeighborsClassifier(n_neighbors=7))]), Pipeline(steps=[('scaling', StandardScaler()),\n",
      "                ('clf', KNeighborsClassifier(n_neighbors=7))]), Pipeline(steps=[('scaling', StandardScaler()),\n",
      "                ('clf', KNeighborsClassifier(n_neighbors=7))]), Pipeline(steps=[('scaling', StandardScaler()),\n",
      "                ('clf', KNeighborsClassifier(n_neighbors=7))]), Pipeline(steps=[('scaling', StandardScaler()),\n",
      "                ('clf', KNeighborsClassifier(n_neighbors=7))]), Pipeline(steps=[('scaling', StandardScaler()),\n",
      "                ('clf', KNeighborsClassifier(n_neighbors=7))]), Pipeline(steps=[('scaling', StandardScaler()),\n",
      "                ('clf', KNeighborsClassifier(n_neighbors=7))]), Pipeline(steps=[('scaling', StandardScaler()),\n",
      "                ('clf', KNeighborsClassifier(n_neighbors=7))]), Pipeline(steps=[('scaling', StandardScaler()),\n",
      "                ('clf', KNeighborsClassifier(n_neighbors=7))])], 'test_fscore': array([0.82318105, 0.81956798, 0.82137566, 0.81498829, 0.81736719,\n",
      "       0.82120891, 0.81597808, 0.81968945, 0.82100592, 0.81600338]), 'test_accuracy': array([0.8328, 0.8296, 0.8312, 0.8262, 0.8288, 0.8314, 0.8254, 0.8293,\n",
      "       0.8306, 0.8257])}\n",
      "Mean fscore:  0.8190365894395042\n"
     ]
    }
   ],
   "source": [
    "from sklearn.neighbors import KNeighborsClassifier\n",
    "knn = KNeighborsClassifier(7) \n",
    "execute_classifier(knn)\n"
   ]
  },
  {
   "cell_type": "code",
   "execution_count": null,
   "metadata": {},
   "outputs": [
    {
     "name": "stdout",
     "output_type": "stream",
     "text": [
      "{'fit_time': array([0.44604921, 0.56850863, 0.69149923, 0.71434593, 0.77572703,\n",
      "       0.87805748, 0.96153951, 0.81762171, 0.79857326, 0.83843875]), 'score_time': array([29.92671466, 30.93100214, 31.05406451, 31.49019194, 31.32786298,\n",
      "       31.58530045, 30.92287374, 30.44187069, 29.83245349, 29.25805545]), 'estimator': [Pipeline(steps=[('scaling', StandardScaler()),\n",
      "                ('clf', KNeighborsClassifier(n_neighbors=6))]), Pipeline(steps=[('scaling', StandardScaler()),\n",
      "                ('clf', KNeighborsClassifier(n_neighbors=6))]), Pipeline(steps=[('scaling', StandardScaler()),\n",
      "                ('clf', KNeighborsClassifier(n_neighbors=6))]), Pipeline(steps=[('scaling', StandardScaler()),\n",
      "                ('clf', KNeighborsClassifier(n_neighbors=6))]), Pipeline(steps=[('scaling', StandardScaler()),\n",
      "                ('clf', KNeighborsClassifier(n_neighbors=6))]), Pipeline(steps=[('scaling', StandardScaler()),\n",
      "                ('clf', KNeighborsClassifier(n_neighbors=6))]), Pipeline(steps=[('scaling', StandardScaler()),\n",
      "                ('clf', KNeighborsClassifier(n_neighbors=6))]), Pipeline(steps=[('scaling', StandardScaler()),\n",
      "                ('clf', KNeighborsClassifier(n_neighbors=6))]), Pipeline(steps=[('scaling', StandardScaler()),\n",
      "                ('clf', KNeighborsClassifier(n_neighbors=6))]), Pipeline(steps=[('scaling', StandardScaler()),\n",
      "                ('clf', KNeighborsClassifier(n_neighbors=6))])], 'test_fscore': array([0.82940089, 0.81630411, 0.82076094, 0.81506849, 0.82050719,\n",
      "       0.82645352, 0.81858939, 0.82119785, 0.82145998, 0.81580106]), 'test_accuracy': array([0.8431, 0.8328, 0.837 , 0.8326, 0.8365, 0.8415, 0.8341, 0.8367,\n",
      "       0.8376, 0.8326])}\n",
      "Mean fscore:  0.8205543431699907\n"
     ]
    }
   ],
   "source": [
    "knn = KNeighborsClassifier(6) \n",
    "execute_classifier(knn)\n"
   ]
  },
  {
   "cell_type": "code",
   "execution_count": null,
   "metadata": {},
   "outputs": [
    {
     "name": "stdout",
     "output_type": "stream",
     "text": [
      "Mean fscore:  0.8203170350532547\n",
      "Mean fscore fsel:  0.6838162426768042\n"
     ]
    },
    {
     "data": {
      "image/png": "[encoded data removed]",
      "text/plain": [
       "<Figure size 300x300 with 1 Axes>"
      ]
     },
     "metadata": {},
     "output_type": "display_data"
    }
   ],
   "source": [
    "knn = KNeighborsClassifier(5) \n",
    "execute_classifier(knn)"
   ]
  },
  {
   "cell_type": "code",
   "execution_count": null,
   "metadata": {},
   "outputs": [
    {
     "name": "stdout",
     "output_type": "stream",
     "text": [
      "{'fit_time': array([25.10712123, 25.23453355, 25.13371944, 25.18273616, 24.972363  ,\n",
      "       24.93336821, 24.88434076, 24.54948354, 24.21967387, 23.76347709]), 'score_time': array([0.42606544, 0.38768792, 0.38451552, 0.3361783 , 0.32265306,\n",
      "       0.26573062, 0.21095705, 0.20046234, 0.16588664, 0.13799357]), 'estimator': [Pipeline(steps=[('scaling', StandardScaler()), ('clf', AdaBoostClassifier())]), Pipeline(steps=[('scaling', StandardScaler()), ('clf', AdaBoostClassifier())]), Pipeline(steps=[('scaling', StandardScaler()), ('clf', AdaBoostClassifier())]), Pipeline(steps=[('scaling', StandardScaler()), ('clf', AdaBoostClassifier())]), Pipeline(steps=[('scaling', StandardScaler()), ('clf', AdaBoostClassifier())]), Pipeline(steps=[('scaling', StandardScaler()), ('clf', AdaBoostClassifier())]), Pipeline(steps=[('scaling', StandardScaler()), ('clf', AdaBoostClassifier())]), Pipeline(steps=[('scaling', StandardScaler()), ('clf', AdaBoostClassifier())]), Pipeline(steps=[('scaling', StandardScaler()), ('clf', AdaBoostClassifier())]), Pipeline(steps=[('scaling', StandardScaler()), ('clf', AdaBoostClassifier())])], 'test_fscore': array([0.81926474, 0.81501285, 0.81716456, 0.81710702, 0.82123421,\n",
      "       0.82180336, 0.81984175, 0.82045478, 0.82557545, 0.81600821]), 'test_accuracy': array([0.824 , 0.8201, 0.8219, 0.8221, 0.8259, 0.8251, 0.8224, 0.8255,\n",
      "       0.8295, 0.8207])}\n",
      "Mean fscore:  0.8193466937664727\n"
     ]
    }
   ],
   "source": [
    "from sklearn.ensemble import AdaBoostClassifier\n",
    "\n",
    "adaboost = AdaBoostClassifier()\n",
    "execute_classifier(adaboost)"
   ]
  },
  {
   "cell_type": "code",
   "execution_count": null,
   "metadata": {},
   "outputs": [
    {
     "name": "stdout",
     "output_type": "stream",
     "text": [
      "{'fit_time': array([28.73402929, 28.63506293, 28.31976318, 28.32614183, 28.41493273,\n",
      "       28.62454176, 28.74262309, 28.59882641, 28.34880996, 28.11689687]), 'score_time': array([0.34850121, 0.31451368, 0.54296756, 0.53009343, 0.4829576 ,\n",
      "       0.40783572, 0.32434726, 0.28897572, 0.26162148, 0.1915462 ]), 'estimator': [Pipeline(steps=[('scaling', StandardScaler()),\n",
      "                ('clf', AdaBoostClassifier(n_estimators=60))]), Pipeline(steps=[('scaling', StandardScaler()),\n",
      "                ('clf', AdaBoostClassifier(n_estimators=60))]), Pipeline(steps=[('scaling', StandardScaler()),\n",
      "                ('clf', AdaBoostClassifier(n_estimators=60))]), Pipeline(steps=[('scaling', StandardScaler()),\n",
      "                ('clf', AdaBoostClassifier(n_estimators=60))]), Pipeline(steps=[('scaling', StandardScaler()),\n",
      "                ('clf', AdaBoostClassifier(n_estimators=60))]), Pipeline(steps=[('scaling', StandardScaler()),\n",
      "                ('clf', AdaBoostClassifier(n_estimators=60))]), Pipeline(steps=[('scaling', StandardScaler()),\n",
      "                ('clf', AdaBoostClassifier(n_estimators=60))]), Pipeline(steps=[('scaling', StandardScaler()),\n",
      "                ('clf', AdaBoostClassifier(n_estimators=60))]), Pipeline(steps=[('scaling', StandardScaler()),\n",
      "                ('clf', AdaBoostClassifier(n_estimators=60))]), Pipeline(steps=[('scaling', StandardScaler()),\n",
      "                ('clf', AdaBoostClassifier(n_estimators=60))])], 'test_fscore': array([0.8260914 , 0.81938417, 0.81976268, 0.82132565, 0.81213992,\n",
      "       0.82170543, 0.81791848, 0.82385547, 0.82437867, 0.82051809]), 'test_accuracy': array([0.8299, 0.8252, 0.8238, 0.8264, 0.8174, 0.8275, 0.824 , 0.8284,\n",
      "       0.8297, 0.8254])}\n",
      "Mean fscore:  0.8207079962785802\n"
     ]
    }
   ],
   "source": [
    "from sklearn.ensemble import AdaBoostClassifier\n",
    "\n",
    "adaboost = AdaBoostClassifier(n_estimators=60)\n",
    "execute_classifier(adaboost)"
   ]
  },
  {
   "cell_type": "code",
   "execution_count": null,
   "metadata": {},
   "outputs": [
    {
     "name": "stdout",
     "output_type": "stream",
     "text": [
      "Mean fscore:  0.8238593200146053\n",
      "Mean fscore fsel:  0.6969966098345753\n"
     ]
    },
    {
     "data": {
      "image/png": "[encoded data removed]",
      "text/plain": [
       "<Figure size 300x300 with 1 Axes>"
      ]
     },
     "metadata": {},
     "output_type": "display_data"
    }
   ],
   "source": [
    "from sklearn.ensemble import AdaBoostClassifier\n",
    "\n",
    "adaboost = AdaBoostClassifier(n_estimators=70)\n",
    "execute_classifier(adaboost)"
   ]
  },
  {
   "cell_type": "code",
   "execution_count": null,
   "metadata": {},
   "outputs": [
    {
     "name": "stdout",
     "output_type": "stream",
     "text": [
      "{'fit_time': array([45.43566298, 44.23251939, 44.90660071, 44.22367477, 44.03277612,\n",
      "       45.44149446, 44.70756507, 45.04521823, 42.54951334, 44.33652043]), 'score_time': array([0.48541021, 0.59333587, 0.86256504, 0.7047267 , 0.76368594,\n",
      "       0.5443542 , 0.56468987, 0.34510803, 0.70707798, 0.31057405]), 'estimator': [Pipeline(steps=[('scaling', StandardScaler()),\n",
      "                ('clf', AdaBoostClassifier(n_estimators=80))]), Pipeline(steps=[('scaling', StandardScaler()),\n",
      "                ('clf', AdaBoostClassifier(n_estimators=80))]), Pipeline(steps=[('scaling', StandardScaler()),\n",
      "                ('clf', AdaBoostClassifier(n_estimators=80))]), Pipeline(steps=[('scaling', StandardScaler()),\n",
      "                ('clf', AdaBoostClassifier(n_estimators=80))]), Pipeline(steps=[('scaling', StandardScaler()),\n",
      "                ('clf', AdaBoostClassifier(n_estimators=80))]), Pipeline(steps=[('scaling', StandardScaler()),\n",
      "                ('clf', AdaBoostClassifier(n_estimators=80))]), Pipeline(steps=[('scaling', StandardScaler()),\n",
      "                ('clf', AdaBoostClassifier(n_estimators=80))]), Pipeline(steps=[('scaling', StandardScaler()),\n",
      "                ('clf', AdaBoostClassifier(n_estimators=80))]), Pipeline(steps=[('scaling', StandardScaler()),\n",
      "                ('clf', AdaBoostClassifier(n_estimators=80))]), Pipeline(steps=[('scaling', StandardScaler()),\n",
      "                ('clf', AdaBoostClassifier(n_estimators=80))])], 'test_fscore': array([0.82993339, 0.8264273 , 0.82526096, 0.82502585, 0.82711301,\n",
      "       0.83343705, 0.82437053, 0.82905539, 0.83140257, 0.81839226]), 'test_accuracy': array([0.8366, 0.8337, 0.8326, 0.8308, 0.8337, 0.8394, 0.8305, 0.8355,\n",
      "       0.837 , 0.8274])}\n",
      "Mean fscore:  0.8270418298875297\n"
     ]
    }
   ],
   "source": [
    "from sklearn.ensemble import AdaBoostClassifier\n",
    "\n",
    "adaboost = AdaBoostClassifier(n_estimators=80)\n",
    "execute_classifier(adaboost)"
   ]
  }
 ],
 "metadata": {
  "kernelspec": {
   "display_name": "dmml",
   "language": "python",
   "name": "python3"
  },
  "language_info": {
   "codemirror_mode": {
    "name": "ipython",
    "version": 3
   },
   "file_extension": ".py",
   "mimetype": "text/x-python",
   "name": "python",
   "nbconvert_exporter": "python",
   "pygments_lexer": "ipython3",
   "version": "3.9.13"
  },
  "orig_nbformat": 4
 },
 "nbformat": 4,
 "nbformat_minor": 2
}
