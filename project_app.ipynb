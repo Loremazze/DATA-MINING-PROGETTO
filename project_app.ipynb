{
 "cells": [
  {
   "cell_type": "code",
   "execution_count": 24,
   "metadata": {},
   "outputs": [],
   "source": [
    "import tkinter as tk\n",
    "from tkinter import ttk\n",
    "from tkinter.messagebox import showinfo\n",
    "from tkinter import *\n",
    "from tkinter.tix import *\n",
    "import joblib\n",
    "import pandas as pd\n",
    "\n",
    "preprocessed_accidents_df = pd.read_csv('dataset/pre-processed_dataset_no_state.csv')\n",
    "preprocessed_accidents_df.drop('Unnamed: 0',axis=1,inplace=True)\n",
    "preprocessed_accidents_df_predummies = pd.read_csv('dataset/pre-processed_dataset_pre_dummies.csv')\n",
    "loaded_model = joblib.load('completed_model.joblib')\n",
    "\n",
    "distance_from_left = 5\n",
    " \n",
    "window = tk.Tk() # Create window Tkinter\n",
    "window.title(\" Accidents Classifier App \") # Name our Tkinter application title\n",
    "window.geometry(\"700x500\") # Define window size in Tkinter python\n",
    " \n",
    "label = tk.Label(window, text=\"Accidents Classifier\",font=('Calibri 15 bold'))\n",
    "label.pack(pady=10,expand=FALSE) # Create a label widget in Tkinter\n",
    "\n",
    "label = tk.Label(window, text=\"This App will allow you to evaluate the severity of an accident given its condition you are able to choose.\\n The result in terms of Severity will be given as 'lethal' or 'non-lethal'\")\n",
    "font=('Calibri 12 bold')\n",
    "label.pack(pady=5,expand=FALSE)\n",
    "\n",
    "label = tk.Label(window, text=\"Here in this section you can choose the first 4 parameters for an eventual accident\")\n",
    "label.pack(pady=5,expand=FALSE)\n",
    "\n",
    "first_4_parameters_list = []\n",
    "entry_list = []\n",
    "last_parameters_list = []\n",
    "\n",
    "preprocessed_accidents_df.drop('Severity',axis=1,inplace=True)\n",
    "\n",
    "y_pred = preprocessed_accidents_df.loc[[0]]\n",
    "for column in y_pred.columns:\n",
    "    y_pred[column].values[:] = 0 \n"
   ]
  },
  {
   "attachments": {},
   "cell_type": "markdown",
   "metadata": {},
   "source": [
    "In the cell above, the first text for the application is created as well as 3 lists that will contain the values of the parameters chosen by the user. In the cell below the method for retrieving all these values is defined: the mean value of every attribute is stored into a variable which will be used in case the user doesn't pick a value for one or more of the parameter; then the values from the 3 lists are retrieved, checking if the used has indeed chosen a value for every of them; in conclusion the y_pred is set with the retrieved values and is ready to be given in input to the model for the prediction\n"
   ]
  },
  {
   "cell_type": "code",
   "execution_count": 25,
   "metadata": {},
   "outputs": [],
   "source": [
    "def set_y_pred(y_pred):\n",
    "    start_time = 'tuesday'\n",
    "    amenity = round(preprocessed_accidents_df['Amenity'].mean())\n",
    "    weather_condition = 'Fair'\n",
    "    sunrise_sunset = round(preprocessed_accidents_df['Sunrise_Sunset'].mean())\n",
    "    side = round(preprocessed_accidents_df['Side'].mean())\n",
    "    precipitation = round(preprocessed_accidents_df['Precipitation'].mean())\n",
    "    distance = round(preprocessed_accidents_df['Distance(mi)'].mean())\n",
    "    visibility = round(preprocessed_accidents_df['Visibility'].mean())\n",
    "    wind_speed = round(preprocessed_accidents_df['Wind_Speed'].mean())\n",
    "    wind_chill = round(preprocessed_accidents_df['Wind_Chill'].mean())\n",
    "    temperature = round(preprocessed_accidents_df['Temperature'].mean())\n",
    "    pressure = round(preprocessed_accidents_df['Pressure'].mean())\n",
    "    humidity = round(preprocessed_accidents_df['Humidity'].mean())\n",
    "    crossing = round(preprocessed_accidents_df['Crossing'].mean())\n",
    "    junction = round(preprocessed_accidents_df['Junction'].mean())\n",
    "    railway = round(preprocessed_accidents_df['Railway'].mean())\n",
    "    station = round(preprocessed_accidents_df['Station'].mean())\n",
    "    stop = round(preprocessed_accidents_df['Stop'].mean())\n",
    "    traffic_signal = round(preprocessed_accidents_df['Traffic_Signal'].mean())\n",
    "\n",
    "    if first_4_parameters_list[0].get() != '':\n",
    "        start_time = first_4_parameters_list[0].get()\n",
    "    if first_4_parameters_list[1].get() != '':\n",
    "        weather_condition = first_4_parameters_list[1].get()\n",
    "    if first_4_parameters_list[2].get() != '':\n",
    "        sunrise_sunset = first_4_parameters_list[2].get()\n",
    "    if first_4_parameters_list[3].get() != '':\n",
    "        side = first_4_parameters_list[3].get()\n",
    "\n",
    "    if entry_list[0].get() != '':\n",
    "        precipitation = entry_list[0].get()\n",
    "    if entry_list[1].get() != '': \n",
    "        temperature = entry_list[1].get()\n",
    "    if entry_list[2].get() != '':\n",
    "        visibility = entry_list[2].get()\n",
    "    if entry_list[3].get() != '':\n",
    "        wind_speed = entry_list[3].get()\n",
    "    if entry_list[4].get() != '':    \n",
    "        pressure = entry_list[4].get()\n",
    "    if entry_list[5].get() != '':    \n",
    "        distance = entry_list[5].get()\n",
    "    if entry_list[6].get() != '':\n",
    "        wind_chill = entry_list[6].get()\n",
    "    if entry_list[7].get() != '':\n",
    "        humidity = entry_list[7].get()\n",
    "\n",
    "    if last_parameters_list[0].get() != '':    \n",
    "        crossing = last_parameters_list[0].get()\n",
    "    if last_parameters_list[1].get() != '': \n",
    "        junction = last_parameters_list[1].get()\n",
    "    if last_parameters_list[2].get() != '': \n",
    "        railway = last_parameters_list[2].get()\n",
    "    if last_parameters_list[3].get() != '': \n",
    "        station = last_parameters_list[3].get()\n",
    "    if last_parameters_list[4].get() != '': \n",
    "        stop = last_parameters_list[4].get()\n",
    "    if last_parameters_list[5].get() != '': \n",
    "        traffic_signal = last_parameters_list[5].get()\n",
    "    if last_parameters_list[6].get() != '': \n",
    "        amenity = last_parameters_list[6].get()\n",
    "\n",
    "    y_pred['Start_Lat'] = preprocessed_accidents_df['Start_Lat'].mean()\n",
    "    y_pred['Start_Lng'] = preprocessed_accidents_df['Start_Lng'].mean()\n",
    "    y_pred['End_Lat'] = preprocessed_accidents_df['End_Lat'].mean()\n",
    "    y_pred['End_Lng'] = preprocessed_accidents_df['End_Lng'].mean()\n",
    "    y_pred[start_time] = 1\n",
    "    y_pred[weather_condition] = 1\n",
    "    y_pred['Amenity'] = amenity\n",
    "    if sunrise_sunset == 'Day':\n",
    "        y_pred['Sunrise_Sunset'] = 1\n",
    "    else:\n",
    "        y_pred['Sunrise_Sunset'] = 0\n",
    "    if side == 'R':\n",
    "        y_pred['Side'] = 1\n",
    "    else:\n",
    "        y_pred['Side'] = 0\n",
    "    y_pred['Precipitation'] = precipitation \n",
    "    y_pred['Distance(mi)'] = distance\n",
    "    y_pred['Visibility'] = visibility\n",
    "    y_pred['Wind_Speed'] = wind_speed\n",
    "    y_pred['Wind_Chill'] = wind_chill\n",
    "    y_pred['Temperature'] = temperature\n",
    "    y_pred['Pressure'] = pressure\n",
    "    y_pred['Humidity'] = humidity \n",
    "    y_pred['Crossing'] = crossing\n",
    "    y_pred['Junction'] = junction\n",
    "    y_pred['Railway'] = railway\n",
    "    y_pred['Station'] = station\n",
    "    y_pred['Stop'] = stop\n",
    "    y_pred['Traffic_Signal'] = traffic_signal\n"
   ]
  },
  {
   "attachments": {},
   "cell_type": "markdown",
   "metadata": {},
   "source": [
    "In this cell below the last section of the application is created: drawing of the progress bar and the related button. Once the button is pressed by the user, the predicition will be carried out and the result will be shown to the user"
   ]
  },
  {
   "cell_type": "code",
   "execution_count": 26,
   "metadata": {},
   "outputs": [],
   "source": [
    "def map_output(output_value):\n",
    "    if output_value == '0.0':\n",
    "        return 'non-lethal'\n",
    "    else:\n",
    "        return 'lethal'\n",
    "\n",
    "def check_input_values(y_pred):\n",
    "    set_y_pred(y_pred)\n",
    "    y_pred_output = loaded_model.predict(y_pred)\n",
    "    showinfo(message= 'Predicted outcome: ' + map_output(str(y_pred_output[0])))\n",
    "\n",
    "def draw_progress_bar():\n",
    "\n",
    "    def update_progress_label():\n",
    "        return f\"Current Progress: {pb['value']}%\"\n",
    "\n",
    "    def progress():\n",
    "        if pb['value'] < 100:\n",
    "            pb['value'] += 100\n",
    "            value_label['text'] = update_progress_label()\n",
    "            check_input_values(y_pred)\n",
    "            pb['value'] = 0\n",
    "            value_label['text'] = update_progress_label()\n",
    "\n",
    "    def stop():\n",
    "        pb.stop()\n",
    "        value_label['text'] = update_progress_label()\n",
    "\n",
    "\n",
    "    # progressbar\n",
    "    pb = ttk.Progressbar(\n",
    "        window,\n",
    "        orient='horizontal',\n",
    "        mode='determinate',\n",
    "        length=280\n",
    "    )\n",
    "\n",
    "    # place the progressbar\n",
    "    pb.place(x=300, y=720)\n",
    "\n",
    "    # label\n",
    "    value_label = ttk.Label(window, text=update_progress_label())\n",
    "    value_label.place(x=410, y=750)\n",
    "\n",
    "    # start button\n",
    "    start_button = ttk.Button(\n",
    "        window,\n",
    "        text='Get The Result',\n",
    "        command=progress\n",
    "    )\n",
    "    start_button.place(x=310, y=747)\n"
   ]
  },
  {
   "attachments": {},
   "cell_type": "markdown",
   "metadata": {},
   "source": [
    "This part below creates the lines and squares that are used as a graphic element"
   ]
  },
  {
   "cell_type": "code",
   "execution_count": 27,
   "metadata": {},
   "outputs": [],
   "source": [
    "\n",
    "from tkinter import Canvas, Frame, BOTH\n",
    "\n",
    "class Example(Frame):\n",
    "\n",
    "    def __init__(self):\n",
    "        super().__init__()\n",
    "\n",
    "        self.initUI()\n",
    "\n",
    "\n",
    "    def initUI(self):\n",
    "\n",
    "        self.master.title(\"Lines\")\n",
    "        self.pack(fill=BOTH, expand=1)\n",
    "\n",
    "        canvas = Canvas(self)\n",
    "        canvas.create_line(350, 230, 350, 400, dash=(4, 2))\n",
    "        canvas.create_line(370, 230, 370, 400, dash=(4, 2))\n",
    "        canvas.create_line(750, 230, 750, 400, dash=(4, 2))\n",
    "        canvas.create_line(770, 230, 770, 400, dash=(4, 2))\n",
    "        canvas.create_line(1180, 230, 1180, 400, dash=(4, 2))\n",
    "        canvas.create_line(1200, 230, 1200, 400, dash=(4, 2))\n",
    "\n",
    "        canvas.create_line(50, 150, 1400, 150)\n",
    "        canvas.create_line(50, 513, 1400, 513)\n",
    "\n",
    "        canvas.create_line(250, 85, 350, 85)\n",
    "        canvas.create_line(400, 85, 470, 85)\n",
    "\n",
    "        canvas.create_line(650, 85, 750, 85)\n",
    "        canvas.create_line(800, 85, 870, 85)\n",
    "\n",
    "        canvas.create_line(1050, 85, 1150, 85)\n",
    "        canvas.create_line(1200, 85, 1270, 85)\n",
    "\n",
    "        canvas.create_rectangle(350, 60, 400, 110, fill=\"white\", outline = 'black')\n",
    "        canvas.create_rectangle(750, 60, 800, 110, fill=\"white\", outline = 'black')\n",
    "        canvas.create_rectangle(1150, 60, 1200, 110, fill=\"white\", outline = 'black')\n",
    "\n",
    "        draw_progress_bar()\n",
    "\n",
    "        canvas.pack(fill=BOTH, expand=1)\n"
   ]
  },
  {
   "attachments": {},
   "cell_type": "markdown",
   "metadata": {},
   "source": [
    "In the cell below, the Entry fields are created for the second section of the application"
   ]
  },
  {
   "cell_type": "code",
   "execution_count": 28,
   "metadata": {},
   "outputs": [],
   "source": [
    "ex = Example()\n",
    "\n",
    "def draw_input_field(x_distance,y_distance,frame_text):\n",
    "    min_value = preprocessed_accidents_df[frame_text].agg(['min', 'max'])[0]\n",
    "    max_value = preprocessed_accidents_df[frame_text].agg(['min', 'max'])[1]\n",
    "    current_frame = Frame(window, bg=\"#6FAFE7\")\n",
    "    current_frame.pack()\n",
    "    current_frame.place(x=x_distance,y=y_distance)\n",
    "\n",
    "    label = tk.Label(window,text='min value = ' + str(\"{:.1f}\".format(min_value)) + ' , max value = ' + str(\"{:.1f}\".format(max_value))).place(x=x_distance,y=y_distance - 25)\n",
    "    Label(current_frame, text=frame_text, bg=\"#6FAFE7\").pack(side='left', padx=5)\n",
    "\n",
    "    current_frame_entry = Entry(current_frame, bd=3,name=frame_text.lower())\n",
    "    current_frame_entry.pack(side='right')\n",
    "    \n",
    "    entry_list.append(current_frame_entry)\n",
    "\n",
    "input_field_x = 50\n",
    "input_field_y = 400\n",
    "\n",
    "label = tk.Label(window, text=\"In this section you can write the values for each category:\")\n",
    "label.place(x=40,y=300)\n",
    "\n",
    "#PRECIPITATION\n",
    "draw_input_field(input_field_x,input_field_y,'Precipitation')\n",
    "\n",
    "#TEMPERATURE\n",
    "draw_input_field(input_field_x + 430, input_field_y,'Temperature')\n",
    "\n",
    "#VISIBILITY\n",
    "draw_input_field(input_field_x + 830, input_field_y,'Visibility')\n",
    "\n",
    "#WIND_SPEED\n",
    "draw_input_field(input_field_x + 1230,input_field_y,'Wind_Speed')\n",
    "\n",
    "#PRESSURE\n",
    "draw_input_field(input_field_x,input_field_y + 90,'Pressure')\n",
    "\n",
    "#DISTANCE\n",
    "draw_input_field(input_field_x + 430,input_field_y + 90,'Distance(mi)')\n",
    "\n",
    "#WIND_CHILL\n",
    "draw_input_field(input_field_x + 830,input_field_y + 90,'Wind_Chill')\n",
    "\n",
    "#HUMIDITY\n",
    "draw_input_field(input_field_x + 1230,input_field_y + 90,'Humidity')\n",
    "\n"
   ]
  },
  {
   "attachments": {},
   "cell_type": "markdown",
   "metadata": {},
   "source": [
    "in the cell below, the Comboboxes are created with the related options for the first section of the application"
   ]
  },
  {
   "cell_type": "code",
   "execution_count": 29,
   "metadata": {},
   "outputs": [],
   "source": [
    "from tkinter.ttk import Combobox\n",
    "\n",
    "def draw_combobox(options_list,associated_label_text,x_start_position_label,y_start_position_label):\n",
    "    def show_result():\n",
    "        showinfo(\n",
    "            title='Result',\n",
    "            message=selected_option.get()\n",
    "        )\n",
    "\n",
    "    selected_option = tk.StringVar()\n",
    "\n",
    "    associated_label = ttk.Label(text=associated_label_text) \n",
    "    associated_label.pack()\n",
    "    associated_label.place(x=x_start_position_label,y=y_start_position_label)\n",
    "\n",
    "    choices = options_list\n",
    "    variable = StringVar(window)\n",
    "    variable.set('GB')\n",
    "\n",
    "    w = Combobox(window, values = choices, state='readonly')\n",
    "    w.pack()\n",
    "    w.place(x=(x_start_position_label - 10),y=(y_start_position_label + 25))\n",
    "    first_4_parameters_list.append(w)\n",
    "\n"
   ]
  },
  {
   "attachments": {},
   "cell_type": "markdown",
   "metadata": {},
   "source": [
    "In the cell below the Radio buttons for the third section of the application are created with the only possible options being 'Yes' or 'No"
   ]
  },
  {
   "cell_type": "code",
   "execution_count": 30,
   "metadata": {},
   "outputs": [],
   "source": [
    "def radio_button_with_options(options_list,associated_label_text,x_start_position_label,y_start_position_label):\n",
    "    def show_result():\n",
    "        showinfo(\n",
    "            title='Result',\n",
    "            message=selected_option.get()\n",
    "        )\n",
    "\n",
    "    selected_option = tk.StringVar()\n",
    "\n",
    "    associated_label = ttk.Label(text=associated_label_text) \n",
    "    associated_label.pack()\n",
    "    associated_label.place(x=x_start_position_label,y=y_start_position_label)\n",
    "\n",
    "    choices = options_list\n",
    "    variable = StringVar(window)\n",
    "    variable.set('GB')\n",
    "\n",
    "    last_parameters_list.append(selected_option)\n",
    "\n",
    "    for option in choices: # radio buttons\n",
    "        radio_name = ttk.Radiobutton(\n",
    "            window,\n",
    "            text=option[0],\n",
    "            value=option[1],\n",
    "            variable=selected_option\n",
    "        )\n",
    "        radio_name.place(x = x_start_position_label,y = y_start_position_label + 20)\n",
    "        y_start_position_label += 20"
   ]
  },
  {
   "cell_type": "code",
   "execution_count": 31,
   "metadata": {},
   "outputs": [],
   "source": [
    "combobox_y = 175\n",
    "combobox_x = 100\n",
    "\n",
    "radio_button_x = 200\n",
    "radio_button_y = 600"
   ]
  },
  {
   "cell_type": "code",
   "execution_count": 32,
   "metadata": {},
   "outputs": [],
   "source": [
    "#START_TIME\n",
    "option_list = ['monday','tuesday','wednesday','thursday','friday','saturday','sunday']\n",
    "\n",
    "draw_combobox(option_list,'Day of the week?',combobox_x,combobox_y)\n",
    "distance_from_left += 5"
   ]
  },
  {
   "cell_type": "code",
   "execution_count": 33,
   "metadata": {},
   "outputs": [],
   "source": [
    "weather_condition_column = preprocessed_accidents_df_predummies['Weather_Condition']\n",
    "weather_condition_column\n",
    "weather_condition_list = pd.unique(weather_condition_column.values)\n",
    "weather_condition_list = weather_condition_list.tolist()\n",
    "#type(weather_condition_list)\n"
   ]
  },
  {
   "cell_type": "code",
   "execution_count": 34,
   "metadata": {},
   "outputs": [],
   "source": [
    "#WEATHER_CONDITION\n",
    "option_list = weather_condition_list\n",
    "draw_combobox(option_list,'Weather_Condition?',combobox_x+400,combobox_y)\n",
    "distance_from_left += 5"
   ]
  },
  {
   "cell_type": "code",
   "execution_count": 35,
   "metadata": {},
   "outputs": [],
   "source": [
    "#SUNRISE_SUNSET\n",
    "option_list = ['Day','Night']\n",
    "draw_combobox(option_list,'Day or Night?',combobox_x+800,combobox_y)\n",
    "distance_from_left += 5\n",
    "#type(option_list)"
   ]
  },
  {
   "cell_type": "code",
   "execution_count": 36,
   "metadata": {},
   "outputs": [],
   "source": [
    "#SIDE\n",
    "option_list = ['Left','Right']\n",
    "draw_combobox(option_list,'Left or Right side of the road?',combobox_x+1200,combobox_y)\n",
    "distance_from_left += 5"
   ]
  },
  {
   "cell_type": "code",
   "execution_count": 37,
   "metadata": {},
   "outputs": [],
   "source": [
    "label = tk.Label(window, text=\"In this final section you can consider the eventual presence of some road elements:\")\n",
    "label.place(x=20,y=550)"
   ]
  },
  {
   "cell_type": "code",
   "execution_count": 38,
   "metadata": {},
   "outputs": [],
   "source": [
    "#CROSSING\n",
    "option_list = {('Yes',1),('No',0)}\n",
    "radio_button_with_options(option_list,'Crossing?',radio_button_x,radio_button_y)\n",
    "distance_from_left += 5"
   ]
  },
  {
   "cell_type": "code",
   "execution_count": 39,
   "metadata": {},
   "outputs": [],
   "source": [
    "#JUNCTION\n",
    "option_list = {('Yes',1),('No',0)}\n",
    "radio_button_with_options(option_list,'Junction?',radio_button_x+200,radio_button_y)\n",
    "distance_from_left += 5"
   ]
  },
  {
   "cell_type": "code",
   "execution_count": 40,
   "metadata": {},
   "outputs": [],
   "source": [
    "#RAILWAY\n",
    "option_list = {('Yes',1),('No',0)}\n",
    "radio_button_with_options(option_list,'Railway?',radio_button_x+400,radio_button_y)\n",
    "distance_from_left += 5"
   ]
  },
  {
   "cell_type": "code",
   "execution_count": 41,
   "metadata": {},
   "outputs": [],
   "source": [
    "#STATION\n",
    "option_list = {('Yes',1),('No',0)}\n",
    "radio_button_with_options(option_list,'Station?',radio_button_x+600,radio_button_y)\n",
    "distance_from_left += 5"
   ]
  },
  {
   "cell_type": "code",
   "execution_count": 42,
   "metadata": {},
   "outputs": [],
   "source": [
    "#STOP\n",
    "option_list = {('Yes',1),('No',0)}\n",
    "radio_button_with_options(option_list,'Stop?',radio_button_x+800,radio_button_y)\n",
    "distance_from_left += 5"
   ]
  },
  {
   "cell_type": "code",
   "execution_count": 43,
   "metadata": {},
   "outputs": [],
   "source": [
    "#TRAFFIC SIGNAL\n",
    "option_list = {('Yes',1),('No',0)}\n",
    "radio_button_with_options(option_list,'Traffic Signal?',radio_button_x+1000,radio_button_y)\n",
    "distance_from_left += 5"
   ]
  },
  {
   "cell_type": "code",
   "execution_count": 44,
   "metadata": {},
   "outputs": [],
   "source": [
    "#AMENITY\n",
    "option_list = {('Yes',1),('No',0)}\n",
    "radio_button_with_options(option_list,'Amenity?',radio_button_x+1200,radio_button_y)\n",
    "distance_from_left += 5"
   ]
  },
  {
   "cell_type": "code",
   "execution_count": 45,
   "metadata": {},
   "outputs": [],
   "source": [
    "label = tk.Label(window, text=\"If you have chosen all the parameters you want you can now click on the button beside the progress bar, it will give you the result in term of Severity and the accuracy of the prediction:\")\n",
    "label.place(x=20,y=680)"
   ]
  },
  {
   "attachments": {},
   "cell_type": "markdown",
   "metadata": {},
   "source": [
    "Application is executed"
   ]
  },
  {
   "cell_type": "code",
   "execution_count": 46,
   "metadata": {},
   "outputs": [
    {
     "name": "stderr",
     "output_type": "stream",
     "text": [
      "Exception in Tkinter callback\n",
      "Traceback (most recent call last):\n",
      "  File \"c:\\Users\\HP\\Anaconda3\\envs\\dmml\\lib\\tkinter\\__init__.py\", line 1892, in __call__\n",
      "    return self.func(*args)\n",
      "  File \"C:\\Users\\HP\\AppData\\Local\\Temp\\ipykernel_16684\\2845115504.py\", line 21, in progress\n",
      "    check_input_values(y_pred)\n",
      "  File \"C:\\Users\\HP\\AppData\\Local\\Temp\\ipykernel_16684\\2845115504.py\", line 9, in check_input_values\n",
      "    y_pred_output = loaded_model.predict(y_pred)\n",
      "  File \"c:\\Users\\HP\\Anaconda3\\envs\\dmml\\lib\\site-packages\\sklearn\\pipeline.py\", line 481, in predict\n",
      "    Xt = transform.transform(Xt)\n",
      "  File \"c:\\Users\\HP\\Anaconda3\\envs\\dmml\\lib\\site-packages\\sklearn\\utils\\_set_output.py\", line 142, in wrapped\n",
      "    data_to_wrap = f(self, X, *args, **kwargs)\n",
      "  File \"c:\\Users\\HP\\Anaconda3\\envs\\dmml\\lib\\site-packages\\sklearn\\preprocessing\\_data.py\", line 992, in transform\n",
      "    X = self._validate_data(\n",
      "  File \"c:\\Users\\HP\\Anaconda3\\envs\\dmml\\lib\\site-packages\\sklearn\\base.py\", line 535, in _validate_data\n",
      "    X = check_array(X, input_name=\"X\", **check_params)\n",
      "  File \"c:\\Users\\HP\\Anaconda3\\envs\\dmml\\lib\\site-packages\\sklearn\\utils\\validation.py\", line 877, in check_array\n",
      "    array = _asarray_with_order(array, order=order, dtype=dtype, xp=xp)\n",
      "  File \"c:\\Users\\HP\\Anaconda3\\envs\\dmml\\lib\\site-packages\\sklearn\\utils\\_array_api.py\", line 185, in _asarray_with_order\n",
      "    array = numpy.asarray(array, order=order, dtype=dtype)\n",
      "  File \"c:\\Users\\HP\\Anaconda3\\envs\\dmml\\lib\\site-packages\\pandas\\core\\generic.py\", line 2070, in __array__\n",
      "    return np.asarray(self._values, dtype=dtype)\n",
      "ValueError: could not convert string to float: 'nn'\n"
     ]
    }
   ],
   "source": [
    "# Run main loop\n",
    "window.mainloop()"
   ]
  }
 ],
 "metadata": {
  "kernelspec": {
   "display_name": "dmml",
   "language": "python",
   "name": "python3"
  },
  "language_info": {
   "codemirror_mode": {
    "name": "ipython",
    "version": 3
   },
   "file_extension": ".py",
   "mimetype": "text/x-python",
   "name": "python",
   "nbconvert_exporter": "python",
   "pygments_lexer": "ipython3",
   "version": "3.9.13"
  },
  "orig_nbformat": 4
 },
 "nbformat": 4,
 "nbformat_minor": 2
}
