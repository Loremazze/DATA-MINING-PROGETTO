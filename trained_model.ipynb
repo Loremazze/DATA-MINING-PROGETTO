{
 "cells": [
  {
   "cell_type": "code",
   "execution_count": 1,
   "metadata": {},
   "outputs": [],
   "source": [
    "from imblearn.over_sampling._smote.base import SMOTE\n",
    "import pandas as pd\n",
    "from sklearn.linear_model import LogisticRegression\n",
    "from sklearn.model_selection import train_test_split\n",
    "from sklearn.pipeline import Pipeline\n",
    "from sklearn.preprocessing import StandardScaler\n",
    "\n",
    "import pickle\n",
    " \n",
    "class MyClass():\n",
    "    def __init__(self, param):\n",
    "        self.param = param\n",
    " \n",
    "def load_object(filename):\n",
    "    try:\n",
    "        with open(filename, \"rb\") as f:\n",
    "            return pickle.load(f)\n",
    "    except Exception as ex:\n",
    "        print(\"Error during unpickling object (Possibly unsupported):\", ex)\n",
    "\n",
    "X_train = load_object(\"X_train.pickle\")\n",
    "X_test = load_object(\"X_test.pickle\")\n",
    "y_train = load_object(\"y_train.pickle\")\n",
    "y_test = load_object(\"y_test.pickle\")\n",
    "\n",
    "pipeline_estimators = [('scaling',StandardScaler()),('clf',LogisticRegression())]\n",
    "pipe = Pipeline(pipeline_estimators)\n",
    "\n"
   ]
  },
  {
   "attachments": {},
   "cell_type": "markdown",
   "metadata": {},
   "source": [
    "The X_train,y_train,X_test,y_test were retrieved from a Pickle module and will now be used to train the model"
   ]
  },
  {
   "cell_type": "code",
   "execution_count": 2,
   "metadata": {},
   "outputs": [
    {
     "data": {
      "text/html": [
       "<div>\n",
       "<style scoped>\n",
       "    .dataframe tbody tr th:only-of-type {\n",
       "        vertical-align: middle;\n",
       "    }\n",
       "\n",
       "    .dataframe tbody tr th {\n",
       "        vertical-align: top;\n",
       "    }\n",
       "\n",
       "    .dataframe thead th {\n",
       "        text-align: right;\n",
       "    }\n",
       "</style>\n",
       "<table border=\"1\" class=\"dataframe\">\n",
       "  <thead>\n",
       "    <tr style=\"text-align: right;\">\n",
       "      <th></th>\n",
       "      <th>Start_Lat</th>\n",
       "      <th>Start_Lng</th>\n",
       "      <th>End_Lat</th>\n",
       "      <th>End_Lng</th>\n",
       "      <th>Distance(mi)</th>\n",
       "      <th>Side</th>\n",
       "      <th>Temperature</th>\n",
       "      <th>Wind_Chill</th>\n",
       "      <th>Humidity</th>\n",
       "      <th>Pressure</th>\n",
       "      <th>...</th>\n",
       "      <th>Thunder / Windy</th>\n",
       "      <th>Thunder and Hail / Windy</th>\n",
       "      <th>Thunder in the Vicinity</th>\n",
       "      <th>Thunderstorm</th>\n",
       "      <th>Thunderstorms and Rain</th>\n",
       "      <th>Tornado</th>\n",
       "      <th>Volcanic Ash</th>\n",
       "      <th>Widespread Dust</th>\n",
       "      <th>Wintry Mix</th>\n",
       "      <th>Wintry Mix / Windy</th>\n",
       "    </tr>\n",
       "  </thead>\n",
       "  <tbody>\n",
       "    <tr>\n",
       "      <th>85699</th>\n",
       "      <td>40.70555</td>\n",
       "      <td>-74.24590</td>\n",
       "      <td>40.70375</td>\n",
       "      <td>-74.24677</td>\n",
       "      <td>0.132</td>\n",
       "      <td>1</td>\n",
       "      <td>81.0</td>\n",
       "      <td>51.852029</td>\n",
       "      <td>58.0</td>\n",
       "      <td>30.05</td>\n",
       "      <td>...</td>\n",
       "      <td>0</td>\n",
       "      <td>0</td>\n",
       "      <td>0</td>\n",
       "      <td>0</td>\n",
       "      <td>0</td>\n",
       "      <td>0</td>\n",
       "      <td>0</td>\n",
       "      <td>0</td>\n",
       "      <td>0</td>\n",
       "      <td>0</td>\n",
       "    </tr>\n",
       "    <tr>\n",
       "      <th>29466</th>\n",
       "      <td>32.92059</td>\n",
       "      <td>-96.75061</td>\n",
       "      <td>32.92033</td>\n",
       "      <td>-96.75013</td>\n",
       "      <td>0.033</td>\n",
       "      <td>1</td>\n",
       "      <td>80.6</td>\n",
       "      <td>51.852029</td>\n",
       "      <td>77.0</td>\n",
       "      <td>29.89</td>\n",
       "      <td>...</td>\n",
       "      <td>0</td>\n",
       "      <td>0</td>\n",
       "      <td>0</td>\n",
       "      <td>0</td>\n",
       "      <td>0</td>\n",
       "      <td>0</td>\n",
       "      <td>0</td>\n",
       "      <td>0</td>\n",
       "      <td>0</td>\n",
       "      <td>0</td>\n",
       "    </tr>\n",
       "  </tbody>\n",
       "</table>\n",
       "<p>2 rows × 124 columns</p>\n",
       "</div>"
      ],
      "text/plain": [
       "       Start_Lat  Start_Lng   End_Lat   End_Lng  Distance(mi)  Side  \\\n",
       "85699   40.70555  -74.24590  40.70375 -74.24677         0.132     1   \n",
       "29466   32.92059  -96.75061  32.92033 -96.75013         0.033     1   \n",
       "\n",
       "       Temperature  Wind_Chill  Humidity  Pressure  ...  Thunder / Windy  \\\n",
       "85699         81.0   51.852029      58.0     30.05  ...                0   \n",
       "29466         80.6   51.852029      77.0     29.89  ...                0   \n",
       "\n",
       "       Thunder and Hail / Windy  Thunder in the Vicinity  Thunderstorm  \\\n",
       "85699                         0                        0             0   \n",
       "29466                         0                        0             0   \n",
       "\n",
       "       Thunderstorms and Rain  Tornado  Volcanic Ash  Widespread Dust  \\\n",
       "85699                       0        0             0                0   \n",
       "29466                       0        0             0                0   \n",
       "\n",
       "       Wintry Mix  Wintry Mix / Windy  \n",
       "85699           0                   0  \n",
       "29466           0                   0  \n",
       "\n",
       "[2 rows x 124 columns]"
      ]
     },
     "execution_count": 2,
     "metadata": {},
     "output_type": "execute_result"
    }
   ],
   "source": [
    "X_test.head(2)"
   ]
  },
  {
   "cell_type": "code",
   "execution_count": 3,
   "metadata": {},
   "outputs": [
    {
     "data": {
      "text/plain": [
       "0.8204355594822869"
      ]
     },
     "execution_count": 3,
     "metadata": {},
     "output_type": "execute_result"
    }
   ],
   "source": [
    "from sklearn.metrics import accuracy_score\n",
    "\n",
    "\n",
    "pipe.fit(X_train,y_train)\n",
    "y_pred = pipe.predict(X_test)\n",
    "accuracy_score(y_pred,y_test)"
   ]
  },
  {
   "cell_type": "code",
   "execution_count": 4,
   "metadata": {},
   "outputs": [
    {
     "data": {
      "text/plain": [
       "Counter({0.0: 150564, 1.0: 1103})"
      ]
     },
     "execution_count": 4,
     "metadata": {},
     "output_type": "execute_result"
    }
   ],
   "source": [
    "from collections import Counter\n",
    "\n",
    "Counter(y_pred)"
   ]
  },
  {
   "cell_type": "code",
   "execution_count": 5,
   "metadata": {},
   "outputs": [
    {
     "data": {
      "text/html": [
       "<div>\n",
       "<style scoped>\n",
       "    .dataframe tbody tr th:only-of-type {\n",
       "        vertical-align: middle;\n",
       "    }\n",
       "\n",
       "    .dataframe tbody tr th {\n",
       "        vertical-align: top;\n",
       "    }\n",
       "\n",
       "    .dataframe thead th {\n",
       "        text-align: right;\n",
       "    }\n",
       "</style>\n",
       "<table border=\"1\" class=\"dataframe\">\n",
       "  <thead>\n",
       "    <tr style=\"text-align: right;\">\n",
       "      <th></th>\n",
       "      <th>Start_Lat</th>\n",
       "      <th>Start_Lng</th>\n",
       "      <th>End_Lat</th>\n",
       "      <th>End_Lng</th>\n",
       "      <th>Distance(mi)</th>\n",
       "      <th>Side</th>\n",
       "      <th>Temperature</th>\n",
       "      <th>Wind_Chill</th>\n",
       "      <th>Humidity</th>\n",
       "      <th>Pressure</th>\n",
       "      <th>...</th>\n",
       "      <th>Thunder / Windy</th>\n",
       "      <th>Thunder and Hail / Windy</th>\n",
       "      <th>Thunder in the Vicinity</th>\n",
       "      <th>Thunderstorm</th>\n",
       "      <th>Thunderstorms and Rain</th>\n",
       "      <th>Tornado</th>\n",
       "      <th>Volcanic Ash</th>\n",
       "      <th>Widespread Dust</th>\n",
       "      <th>Wintry Mix</th>\n",
       "      <th>Wintry Mix / Windy</th>\n",
       "    </tr>\n",
       "  </thead>\n",
       "  <tbody>\n",
       "    <tr>\n",
       "      <th>2</th>\n",
       "      <td>39.10266</td>\n",
       "      <td>-84.52468</td>\n",
       "      <td>39.10209</td>\n",
       "      <td>-84.52396</td>\n",
       "      <td>0.055</td>\n",
       "      <td>1</td>\n",
       "      <td>36.0</td>\n",
       "      <td>51.852029</td>\n",
       "      <td>97.0</td>\n",
       "      <td>29.7</td>\n",
       "      <td>...</td>\n",
       "      <td>0</td>\n",
       "      <td>0</td>\n",
       "      <td>0</td>\n",
       "      <td>0</td>\n",
       "      <td>0</td>\n",
       "      <td>0</td>\n",
       "      <td>0</td>\n",
       "      <td>0</td>\n",
       "      <td>0</td>\n",
       "      <td>0</td>\n",
       "    </tr>\n",
       "  </tbody>\n",
       "</table>\n",
       "<p>1 rows × 124 columns</p>\n",
       "</div>"
      ],
      "text/plain": [
       "   Start_Lat  Start_Lng   End_Lat   End_Lng  Distance(mi)  Side  Temperature  \\\n",
       "2   39.10266  -84.52468  39.10209 -84.52396         0.055     1         36.0   \n",
       "\n",
       "   Wind_Chill  Humidity  Pressure  ...  Thunder / Windy  \\\n",
       "2   51.852029      97.0      29.7  ...                0   \n",
       "\n",
       "   Thunder and Hail / Windy  Thunder in the Vicinity  Thunderstorm  \\\n",
       "2                         0                        0             0   \n",
       "\n",
       "   Thunderstorms and Rain  Tornado  Volcanic Ash  Widespread Dust  Wintry Mix  \\\n",
       "2                       0        0             0                0           0   \n",
       "\n",
       "   Wintry Mix / Windy  \n",
       "2                   0  \n",
       "\n",
       "[1 rows x 124 columns]"
      ]
     },
     "execution_count": 5,
     "metadata": {},
     "output_type": "execute_result"
    }
   ],
   "source": [
    "X_test.loc[[2]]"
   ]
  },
  {
   "attachments": {},
   "cell_type": "markdown",
   "metadata": {},
   "source": [
    "Here below the prediction is tested to see if the output is the expected one"
   ]
  },
  {
   "cell_type": "code",
   "execution_count": 6,
   "metadata": {},
   "outputs": [],
   "source": [
    "\n",
    "pred = pipe.predict(X_test.loc[[2]])"
   ]
  },
  {
   "cell_type": "code",
   "execution_count": 7,
   "metadata": {},
   "outputs": [
    {
     "data": {
      "text/plain": [
       "0.0"
      ]
     },
     "execution_count": 7,
     "metadata": {},
     "output_type": "execute_result"
    }
   ],
   "source": [
    "pred[0]"
   ]
  },
  {
   "attachments": {},
   "cell_type": "markdown",
   "metadata": {},
   "source": [
    "The model is saved into a file, it will be used for the prediction of new samples during the execution of the application"
   ]
  },
  {
   "cell_type": "code",
   "execution_count": 8,
   "metadata": {},
   "outputs": [
    {
     "data": {
      "text/plain": [
       "['completed_model.joblib']"
      ]
     },
     "execution_count": 8,
     "metadata": {},
     "output_type": "execute_result"
    }
   ],
   "source": [
    "import joblib\n",
    "\n",
    "joblib.dump(pipe, 'completed_model.joblib')"
   ]
  }
 ],
 "metadata": {
  "kernelspec": {
   "display_name": "dmml",
   "language": "python",
   "name": "python3"
  },
  "language_info": {
   "codemirror_mode": {
    "name": "ipython",
    "version": 3
   },
   "file_extension": ".py",
   "mimetype": "text/x-python",
   "name": "python",
   "nbconvert_exporter": "python",
   "pygments_lexer": "ipython3",
   "version": "3.9.13"
  },
  "orig_nbformat": 4
 },
 "nbformat": 4,
 "nbformat_minor": 2
}
