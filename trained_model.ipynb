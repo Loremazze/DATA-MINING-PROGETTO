{
 "cells": [
  {
   "cell_type": "code",
   "execution_count": 29,
   "metadata": {},
   "outputs": [],
   "source": [
    "from imblearn.over_sampling._smote.base import SMOTE\n",
    "import pandas as pd\n",
    "from sklearn.linear_model import LogisticRegression\n",
    "from sklearn.model_selection import train_test_split\n",
    "from sklearn.pipeline import Pipeline\n",
    "from sklearn.preprocessing import StandardScaler\n",
    "from sklearn.tree import DecisionTreeClassifier\n",
    "\n",
    "preprocessed_accidents_df = pd.read_csv('dataset/pre-processed_dataset_no_state.csv')\n",
    "\n",
    "def change(record):\n",
    "    if record == 2:\n",
    "        return 0\n",
    "    elif record == 3:\n",
    "        return 1\n",
    "\n",
    "temp = list(map(change,preprocessed_accidents_df['Severity']))\n",
    "preprocessed_accidents_df['Severity'] = temp\n",
    "\n",
    "def change_day(record):\n",
    "    if record == 0:\n",
    "        return str('monday')\n",
    "    elif record == 1:\n",
    "        return str('tuesday')\n",
    "    if record == 2:\n",
    "        return str('wednesday')\n",
    "    elif record == 3:\n",
    "        return str('thursday')\n",
    "    if record == 4:\n",
    "        return str('friday')\n",
    "    elif record == 5:\n",
    "        return str('saturday')\n",
    "    if record == 6:\n",
    "        return str('sunday')\n",
    "\n",
    "temp = list(map(change_day,preprocessed_accidents_df['Start_Time']))\n",
    "preprocessed_accidents_df['Start_Time'] = temp\n",
    "\n",
    "for column in preprocessed_accidents_df.columns:\n",
    "    if column in ['Start_Time']:\n",
    "      dummies = pd.get_dummies(preprocessed_accidents_df[column],drop_first=False)\n",
    "      preprocessed_accidents_df = pd.concat([preprocessed_accidents_df,dummies],axis=1)\n",
    "      preprocessed_accidents_df.drop(column,axis=1,inplace=True)\n",
    "\n",
    "y = preprocessed_accidents_df['Severity']\n",
    "X = preprocessed_accidents_df.drop('Severity',axis=1)\n",
    "\n",
    "X_train, X_test, y_train, y_test = train_test_split(X, y, random_state=42)\n",
    "pipeline_estimators = [('scaling',StandardScaler()),('clf',LogisticRegression())]\n",
    "pipe = Pipeline(pipeline_estimators)\n",
    "\n"
   ]
  },
  {
   "cell_type": "code",
   "execution_count": 30,
   "metadata": {},
   "outputs": [
    {
     "data": {
      "text/plain": [
       "0.8206280073545712"
      ]
     },
     "execution_count": 30,
     "metadata": {},
     "output_type": "execute_result"
    }
   ],
   "source": [
    "from sklearn.metrics import accuracy_score\n",
    "\n",
    "\n",
    "pipe.fit(X_train,y_train)\n",
    "y_pred = pipe.predict(X_test)\n",
    "accuracy_score(y_pred,y_test)"
   ]
  },
  {
   "cell_type": "code",
   "execution_count": 31,
   "metadata": {},
   "outputs": [
    {
     "data": {
      "text/plain": [
       "Counter({0: 152308, 1: 1066})"
      ]
     },
     "execution_count": 31,
     "metadata": {},
     "output_type": "execute_result"
    }
   ],
   "source": [
    "from collections import Counter\n",
    "\n",
    "Counter(y_pred)"
   ]
  },
  {
   "cell_type": "code",
   "execution_count": 32,
   "metadata": {},
   "outputs": [
    {
     "data": {
      "text/html": [
       "<div>\n",
       "<style scoped>\n",
       "    .dataframe tbody tr th:only-of-type {\n",
       "        vertical-align: middle;\n",
       "    }\n",
       "\n",
       "    .dataframe tbody tr th {\n",
       "        vertical-align: top;\n",
       "    }\n",
       "\n",
       "    .dataframe thead th {\n",
       "        text-align: right;\n",
       "    }\n",
       "</style>\n",
       "<table border=\"1\" class=\"dataframe\">\n",
       "  <thead>\n",
       "    <tr style=\"text-align: right;\">\n",
       "      <th></th>\n",
       "      <th>Unnamed: 0</th>\n",
       "      <th>Start_Lat</th>\n",
       "      <th>Start_Lng</th>\n",
       "      <th>End_Lat</th>\n",
       "      <th>End_Lng</th>\n",
       "      <th>Distance(mi)</th>\n",
       "      <th>Side</th>\n",
       "      <th>Temperature</th>\n",
       "      <th>Wind_Chill</th>\n",
       "      <th>Humidity</th>\n",
       "      <th>...</th>\n",
       "      <th>Widespread Dust</th>\n",
       "      <th>Wintry Mix</th>\n",
       "      <th>Wintry Mix / Windy</th>\n",
       "      <th>friday</th>\n",
       "      <th>monday</th>\n",
       "      <th>saturday</th>\n",
       "      <th>sunday</th>\n",
       "      <th>thursday</th>\n",
       "      <th>tuesday</th>\n",
       "      <th>wednesday</th>\n",
       "    </tr>\n",
       "  </thead>\n",
       "  <tbody>\n",
       "    <tr>\n",
       "      <th>2</th>\n",
       "      <td>2</td>\n",
       "      <td>39.10266</td>\n",
       "      <td>-84.52468</td>\n",
       "      <td>39.10209</td>\n",
       "      <td>-84.52396</td>\n",
       "      <td>0.055</td>\n",
       "      <td>1</td>\n",
       "      <td>36.0</td>\n",
       "      <td>51.887338</td>\n",
       "      <td>97.0</td>\n",
       "      <td>...</td>\n",
       "      <td>0</td>\n",
       "      <td>0</td>\n",
       "      <td>0</td>\n",
       "      <td>0</td>\n",
       "      <td>1</td>\n",
       "      <td>0</td>\n",
       "      <td>0</td>\n",
       "      <td>0</td>\n",
       "      <td>0</td>\n",
       "      <td>0</td>\n",
       "    </tr>\n",
       "  </tbody>\n",
       "</table>\n",
       "<p>1 rows × 126 columns</p>\n",
       "</div>"
      ],
      "text/plain": [
       "   Unnamed: 0  Start_Lat  Start_Lng   End_Lat   End_Lng  Distance(mi)  Side  \\\n",
       "2           2   39.10266  -84.52468  39.10209 -84.52396         0.055     1   \n",
       "\n",
       "   Temperature  Wind_Chill  Humidity  ...  Widespread Dust  Wintry Mix  \\\n",
       "2         36.0   51.887338      97.0  ...                0           0   \n",
       "\n",
       "   Wintry Mix / Windy  friday  monday  saturday  sunday  thursday  tuesday  \\\n",
       "2                   0       0       1         0       0         0        0   \n",
       "\n",
       "   wednesday  \n",
       "2          0  \n",
       "\n",
       "[1 rows x 126 columns]"
      ]
     },
     "execution_count": 32,
     "metadata": {},
     "output_type": "execute_result"
    }
   ],
   "source": [
    "X_test.loc[[2]]"
   ]
  },
  {
   "cell_type": "code",
   "execution_count": 33,
   "metadata": {},
   "outputs": [],
   "source": [
    "\n",
    "pred = pipe.predict(X_test.loc[[2]])"
   ]
  },
  {
   "cell_type": "code",
   "execution_count": 34,
   "metadata": {},
   "outputs": [
    {
     "data": {
      "text/plain": [
       "0"
      ]
     },
     "execution_count": 34,
     "metadata": {},
     "output_type": "execute_result"
    }
   ],
   "source": [
    "pred[0]"
   ]
  },
  {
   "cell_type": "code",
   "execution_count": 35,
   "metadata": {},
   "outputs": [
    {
     "data": {
      "text/plain": [
       "['completed_model.joblib']"
      ]
     },
     "execution_count": 35,
     "metadata": {},
     "output_type": "execute_result"
    }
   ],
   "source": [
    "import joblib\n",
    "\n",
    "joblib.dump(pipe, 'completed_model.joblib')"
   ]
  }
 ],
 "metadata": {
  "kernelspec": {
   "display_name": "dmml",
   "language": "python",
   "name": "python3"
  },
  "language_info": {
   "codemirror_mode": {
    "name": "ipython",
    "version": 3
   },
   "file_extension": ".py",
   "mimetype": "text/x-python",
   "name": "python",
   "nbconvert_exporter": "python",
   "pygments_lexer": "ipython3",
   "version": "3.9.13"
  },
  "orig_nbformat": 4
 },
 "nbformat": 4,
 "nbformat_minor": 2
}
