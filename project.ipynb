{
 "cells": [
  {
   "cell_type": "code",
   "execution_count": 674,
   "metadata": {},
   "outputs": [],
   "source": [
    "import pandas as pd\n",
    "\n",
    "accidents_df = pd.read_csv('dataset/US_Accidents_Dec21_updated.csv')\n",
    "accidents_copy = accidents_df.copy()"
   ]
  },
  {
   "attachments": {},
   "cell_type": "markdown",
   "metadata": {},
   "source": [
    "Visualizzazione delle caratteristiche del Dataset: numero di righe, numero di features e output a video delle prime 10 righe del dataset"
   ]
  },
  {
   "cell_type": "code",
   "execution_count": 675,
   "metadata": {},
   "outputs": [
    {
     "data": {
      "text/plain": [
       "(2845342, 47)"
      ]
     },
     "execution_count": 675,
     "metadata": {},
     "output_type": "execute_result"
    }
   ],
   "source": [
    "accidents_copy.shape"
   ]
  },
  {
   "cell_type": "code",
   "execution_count": 676,
   "metadata": {},
   "outputs": [],
   "source": [
    "accidents_copy.drop('ID',axis=1,inplace=True)"
   ]
  },
  {
   "cell_type": "code",
   "execution_count": 677,
   "metadata": {},
   "outputs": [],
   "source": [
    "from imblearn.over_sampling._smote.base import Counter\n",
    "\n",
    "lista_da_eliminare = []\n",
    "lista_check = []\n",
    "lista_weather = Counter(accidents_copy['Weather_Condition'])\n",
    "\n",
    "for elemento in lista_weather.keys():\n",
    "    if lista_weather[elemento] < 100:\n",
    "        lista_check.append(elemento)\n",
    "\n",
    "for index,row in accidents_copy.iterrows():\n",
    "    indice = row['Severity']\n",
    "    stringa = row['Start_Time'].split('-')\n",
    "    stringa = stringa[0]\n",
    "    if stringa == '2021' or stringa == '2020' or indice == 1 or indice == 4:\n",
    "        lista_da_eliminare.append(index)\n",
    "        "
   ]
  },
  {
   "cell_type": "code",
   "execution_count": 678,
   "metadata": {},
   "outputs": [],
   "source": [
    "accidents_copy.drop(labels=lista_da_eliminare,inplace=True)"
   ]
  },
  {
   "cell_type": "code",
   "execution_count": 679,
   "metadata": {},
   "outputs": [],
   "source": [
    "accidents_copy.drop('Country',axis=1,inplace=True)\n",
    "accidents_copy.drop('State',axis=1,inplace=True)\n",
    "accidents_copy.drop('Wind_Direction',axis=1,inplace=True)\n",
    "accidents_copy.drop('Nautical_Twilight',axis=1,inplace=True)"
   ]
  },
  {
   "cell_type": "code",
   "execution_count": 680,
   "metadata": {},
   "outputs": [],
   "source": [
    "accidents_copy.drop('City',axis=1,inplace=True)\n",
    "accidents_copy.drop('County',axis=1,inplace=True)\n",
    "accidents_copy.drop('End_Time',axis=1,inplace=True)\n",
    "accidents_copy.drop('Street',axis=1,inplace=True)\n",
    "accidents_copy.drop('Description',axis=1,inplace=True)\n",
    "accidents_copy.drop('Roundabout',axis=1,inplace=True)\n",
    "accidents_copy.drop('Traffic_Calming',axis=1,inplace=True)\n",
    "accidents_copy.drop('Turning_Loop',axis=1,inplace=True)\n",
    "accidents_copy.drop('Astronomical_Twilight',axis=1,inplace=True)\n",
    "accidents_copy.drop('Bump',axis=1,inplace=True)\n",
    "accidents_copy.drop('Civil_Twilight',axis=1,inplace=True)\n",
    "accidents_copy.drop('Give_Way',axis=1,inplace=True)\n",
    "accidents_copy.drop('No_Exit',axis=1,inplace=True)"
   ]
  },
  {
   "cell_type": "code",
   "execution_count": 681,
   "metadata": {},
   "outputs": [],
   "source": [
    "accidents_copy.drop('Timezone',axis=1,inplace=True)\n",
    "accidents_copy.drop('Airport_Code',axis=1,inplace=True)"
   ]
  },
  {
   "attachments": {},
   "cell_type": "markdown",
   "metadata": {},
   "source": [
    "Controllo di valori null, valori mancanti e altre inconsistency nel dataset"
   ]
  },
  {
   "cell_type": "code",
   "execution_count": 682,
   "metadata": {},
   "outputs": [],
   "source": [
    "accidents_copy.drop('Zipcode',axis = 1,inplace=True)\n",
    "check = accidents_copy.isna().sum()"
   ]
  },
  {
   "cell_type": "code",
   "execution_count": 683,
   "metadata": {},
   "outputs": [
    {
     "data": {
      "text/plain": [
       "Severity                  0\n",
       "Start_Time                0\n",
       "Start_Lat                 0\n",
       "Start_Lng                 0\n",
       "End_Lat                   0\n",
       "End_Lng                   0\n",
       "Distance(mi)              0\n",
       "Number               505269\n",
       "Side                      0\n",
       "Weather_Timestamp      9231\n",
       "Temperature(F)        15420\n",
       "Wind_Chill(F)        351617\n",
       "Humidity(%)           16059\n",
       "Pressure(in)          13027\n",
       "Visibility(mi)        16547\n",
       "Wind_Speed(mph)       82551\n",
       "Precipitation(in)    385856\n",
       "Weather_Condition     16736\n",
       "Amenity                   0\n",
       "Crossing                  0\n",
       "Junction                  0\n",
       "Railway                   0\n",
       "Station                   0\n",
       "Stop                      0\n",
       "Traffic_Signal            0\n",
       "Sunrise_Sunset           24\n",
       "dtype: int64"
      ]
     },
     "execution_count": 683,
     "metadata": {},
     "output_type": "execute_result"
    }
   ],
   "source": [
    "accidents_copy.isna().sum()"
   ]
  },
  {
   "cell_type": "code",
   "execution_count": 684,
   "metadata": {},
   "outputs": [],
   "source": [
    "columns_names = accidents_copy.columns.values.tolist()\n",
    "na_columns = []\n",
    "\n",
    "for index in range(len(check)):\n",
    "    if check[index] != 0:\n",
    "        na_columns.append(columns_names[index])"
   ]
  },
  {
   "attachments": {},
   "cell_type": "markdown",
   "metadata": {},
   "source": [
    "Qui otteniamo i nomi delle colonne che contengono null values da gestire in modo da processare le singole colonne indipendentemente"
   ]
  },
  {
   "cell_type": "code",
   "execution_count": 685,
   "metadata": {},
   "outputs": [
    {
     "name": "stdout",
     "output_type": "stream",
     "text": [
      "['Number', 'Weather_Timestamp', 'Temperature(F)', 'Wind_Chill(F)', 'Humidity(%)', 'Pressure(in)', 'Visibility(mi)', 'Wind_Speed(mph)', 'Precipitation(in)', 'Weather_Condition', 'Sunrise_Sunset']\n",
      "11\n"
     ]
    }
   ],
   "source": [
    "print(na_columns)\n",
    "len_na_columns = len(na_columns)\n",
    "index_na_columns = 0\n",
    "print(len_na_columns)"
   ]
  },
  {
   "cell_type": "code",
   "execution_count": 686,
   "metadata": {},
   "outputs": [],
   "source": [
    "def examin_column(current_index):\n",
    "    column_name = na_columns[current_index]\n",
    "    accidents_copy[column_name].head(20)\n",
    "    column_na_count = accidents_copy[column_name].isna().sum()\n",
    "    ratio = column_na_count/accidents_copy.shape[0]\n",
    "    print(\"Total count of null values for the column \" + str(column_name) + \" = \" + str(column_na_count))\n",
    "    print(\"Ratio between total number of values of the column respect to its null values = \" + str(ratio))\n"
   ]
  },
  {
   "attachments": {},
   "cell_type": "markdown",
   "metadata": {},
   "source": [
    "Some considerations on the column: Number is a numerical attribute and has we can see it has more than hal of the value null. We could consider to replace the null values but the best alternative is to drop the column because it is useless in our problem: it just shows the street number"
   ]
  },
  {
   "cell_type": "code",
   "execution_count": 687,
   "metadata": {},
   "outputs": [],
   "source": [
    "accidents_final_df = accidents_copy\n",
    "accidents_final_df.drop('Number',axis = 1,inplace=True)\n",
    "accidents_final_df.drop('Weather_Timestamp',axis = 1,inplace=True)\n",
    "index_na_columns += 2"
   ]
  },
  {
   "cell_type": "code",
   "execution_count": 688,
   "metadata": {},
   "outputs": [
    {
     "data": {
      "text/plain": [
       "(622749, 24)"
      ]
     },
     "execution_count": 688,
     "metadata": {},
     "output_type": "execute_result"
    }
   ],
   "source": [
    "accidents_final_df.shape"
   ]
  },
  {
   "cell_type": "code",
   "execution_count": 689,
   "metadata": {},
   "outputs": [
    {
     "name": "stdout",
     "output_type": "stream",
     "text": [
      "Total count of null values for the column Temperature(F) = 15420\n",
      "Ratio between total number of values of the column respect to its null values = 0.024761179865403236\n"
     ]
    }
   ],
   "source": [
    "examin_column(index_na_columns)"
   ]
  },
  {
   "cell_type": "code",
   "execution_count": 690,
   "metadata": {},
   "outputs": [],
   "source": [
    "def examin_column_final(current_index):\n",
    "    if current_index >= len_na_columns:\n",
    "        return \n",
    "    column_name = na_columns[current_index]\n",
    "    accidents_final_df[column_name].head(20)\n",
    "    column_na_count = accidents_final_df[column_name].isna().sum()\n",
    "    ratio = column_na_count/accidents_final_df.shape[0]\n",
    "    print(\"Total count of null values for the column \" + str(column_name) + \" = \" + str(column_na_count))\n",
    "    print(\"Ratio between total number of values of the column respect to its null values = \" + str(ratio))\n"
   ]
  },
  {
   "cell_type": "code",
   "execution_count": 691,
   "metadata": {},
   "outputs": [
    {
     "name": "stdout",
     "output_type": "stream",
     "text": [
      "Total count of null values for the column Temperature(F) = 0\n",
      "Ratio between total number of values of the column respect to its null values = 0.0\n"
     ]
    }
   ],
   "source": [
    "temp = accidents_final_df[accidents_final_df[na_columns[index_na_columns]].isnull()]\n",
    "index_array = temp.index\n",
    "accidents_final_df.drop(index_array,axis = 0,inplace=True)\n",
    "examin_column_final(index_na_columns)\n",
    "index_na_columns += 1"
   ]
  },
  {
   "cell_type": "code",
   "execution_count": 692,
   "metadata": {},
   "outputs": [
    {
     "name": "stdout",
     "output_type": "stream",
     "text": [
      "Total count of null values for the column Wind_Chill(F) = 336197\n",
      "Ratio between total number of values of the column respect to its null values = 0.5535665183121504\n"
     ]
    }
   ],
   "source": [
    "examin_column_final(index_na_columns)\n",
    "index_na_columns += 1"
   ]
  },
  {
   "cell_type": "code",
   "execution_count": 693,
   "metadata": {},
   "outputs": [
    {
     "name": "stdout",
     "output_type": "stream",
     "text": [
      "51.88712213976956\n"
     ]
    }
   ],
   "source": [
    "accidents_final_df.rename(columns = {'Wind_Chill(F)':'Wind_Chill'}, inplace = True)\n",
    "print(accidents_final_df.Wind_Chill.mean())\n",
    "accidents_final_df['Wind_Chill'].fillna(accidents_final_df.Wind_Chill.mean(),inplace= True)"
   ]
  },
  {
   "attachments": {},
   "cell_type": "markdown",
   "metadata": {},
   "source": [
    "Anche in questo caso si parla di un numero infinitesimale di tuple, l'alternativa migliore è eliminarle, la percentuale di perdita è minima"
   ]
  },
  {
   "cell_type": "code",
   "execution_count": 694,
   "metadata": {},
   "outputs": [
    {
     "name": "stdout",
     "output_type": "stream",
     "text": [
      "Total count of null values for the column Humidity(%) = 639\n",
      "Ratio between total number of values of the column respect to its null values = 0.0010521480120330167\n"
     ]
    }
   ],
   "source": [
    "examin_column_final(index_na_columns)"
   ]
  },
  {
   "attachments": {},
   "cell_type": "markdown",
   "metadata": {},
   "source": [
    "Stesso discorso, in questo caso può essere droppata completamente la feature in quanto non rilevante per il nostro problema (lo zipcode è il codice di avviamento postale) "
   ]
  },
  {
   "attachments": {},
   "cell_type": "markdown",
   "metadata": {},
   "source": [
    "Droppo le righe direttamente"
   ]
  },
  {
   "cell_type": "code",
   "execution_count": 695,
   "metadata": {},
   "outputs": [
    {
     "name": "stdout",
     "output_type": "stream",
     "text": [
      "Total count of null values for the column Humidity(%) = 0\n",
      "Ratio between total number of values of the column respect to its null values = 0.0\n"
     ]
    }
   ],
   "source": [
    "temp = accidents_final_df[accidents_final_df[na_columns[index_na_columns]].isnull()]\n",
    "index_array = temp.index\n",
    "accidents_final_df.drop(index_array,axis = 0,inplace=True)\n",
    "examin_column_final(index_na_columns)\n",
    "index_na_columns += 1"
   ]
  },
  {
   "cell_type": "code",
   "execution_count": 696,
   "metadata": {},
   "outputs": [
    {
     "name": "stdout",
     "output_type": "stream",
     "text": [
      "Total count of null values for the column Pressure(in) = 923\n",
      "Ratio between total number of values of the column respect to its null values = 0.0015213700571956024\n"
     ]
    }
   ],
   "source": [
    "examin_column_final(index_na_columns)\n",
    "index_na_columns += 1"
   ]
  },
  {
   "cell_type": "code",
   "execution_count": 697,
   "metadata": {},
   "outputs": [
    {
     "data": {
      "text/plain": [
       "(606690, 24)"
      ]
     },
     "execution_count": 697,
     "metadata": {},
     "output_type": "execute_result"
    }
   ],
   "source": [
    "accidents_final_df.shape"
   ]
  },
  {
   "attachments": {},
   "cell_type": "markdown",
   "metadata": {},
   "source": [
    "Droppo le righe"
   ]
  },
  {
   "cell_type": "code",
   "execution_count": 698,
   "metadata": {},
   "outputs": [
    {
     "name": "stdout",
     "output_type": "stream",
     "text": [
      "29.726556184143394\n"
     ]
    }
   ],
   "source": [
    "accidents_final_df.rename(columns = {'Pressure(in)':'Pressure'}, inplace = True)\n",
    "print(accidents_final_df.Pressure.mean())\n",
    "accidents_final_df['Pressure'].fillna(accidents_final_df.Pressure.mean(),inplace= True)"
   ]
  },
  {
   "cell_type": "code",
   "execution_count": 699,
   "metadata": {},
   "outputs": [
    {
     "name": "stdout",
     "output_type": "stream",
     "text": [
      "Total count of null values for the column Visibility(mi) = 3719\n",
      "Ratio between total number of values of the column respect to its null values = 0.006129984011603949\n"
     ]
    }
   ],
   "source": [
    "examin_column_final(index_na_columns)\n",
    "index_na_columns += 1"
   ]
  },
  {
   "attachments": {},
   "cell_type": "markdown",
   "metadata": {},
   "source": [
    "Droppo la colonna"
   ]
  },
  {
   "cell_type": "code",
   "execution_count": 700,
   "metadata": {},
   "outputs": [
    {
     "name": "stdout",
     "output_type": "stream",
     "text": [
      "9.202145327055531\n"
     ]
    }
   ],
   "source": [
    "accidents_final_df.rename(columns = {'Visibility(mi)':'Visibility'}, inplace = True)\n",
    "print(accidents_final_df.Visibility.mean())\n",
    "accidents_final_df['Visibility'].fillna(accidents_final_df.Visibility.mean(),inplace= True)"
   ]
  },
  {
   "cell_type": "code",
   "execution_count": 701,
   "metadata": {},
   "outputs": [
    {
     "name": "stdout",
     "output_type": "stream",
     "text": [
      "Total count of null values for the column Wind_Speed(mph) = 69177\n",
      "Ratio between total number of values of the column respect to its null values = 0.11402363645354299\n"
     ]
    }
   ],
   "source": [
    "examin_column_final(index_na_columns)\n",
    "index_na_columns += 1"
   ]
  },
  {
   "cell_type": "code",
   "execution_count": 702,
   "metadata": {},
   "outputs": [
    {
     "name": "stdout",
     "output_type": "stream",
     "text": [
      "61.554962501442255\n"
     ]
    }
   ],
   "source": [
    "accidents_final_df.rename(columns = {'Temperature(F)':'Temperature'}, inplace = True)\n",
    "print(accidents_final_df.Temperature.mean())\n",
    "accidents_final_df['Temperature'].fillna(accidents_final_df.Temperature.mean(),inplace= True)"
   ]
  },
  {
   "cell_type": "code",
   "execution_count": 703,
   "metadata": {},
   "outputs": [
    {
     "name": "stdout",
     "output_type": "stream",
     "text": [
      "Total count of null values for the column Temperature = 0\n",
      "Ratio between total number of values of the column respect to its null values = 0.0\n"
     ]
    }
   ],
   "source": [
    "column_na_count = accidents_final_df['Temperature'].isna().sum()\n",
    "ratio = column_na_count/accidents_final_df.shape[0]\n",
    "print(\"Total count of null values for the column \" + str('Temperature') + \" = \" + str(column_na_count))\n",
    "print(\"Ratio between total number of values of the column respect to its null values = \" + str(ratio))"
   ]
  },
  {
   "attachments": {},
   "cell_type": "markdown",
   "metadata": {},
   "source": [
    "Temperature è stata rinominata e i valori nulla sono stati gestiti con la media della colonna"
   ]
  },
  {
   "cell_type": "code",
   "execution_count": 704,
   "metadata": {},
   "outputs": [
    {
     "name": "stdout",
     "output_type": "stream",
     "text": [
      "Total count of null values for the column Weather_Condition = 4019\n",
      "Ratio between total number of values of the column respect to its null values = 0.006624470487398836\n"
     ]
    }
   ],
   "source": [
    "index_na_columns += 1\n",
    "examin_column_final(index_na_columns)"
   ]
  },
  {
   "cell_type": "code",
   "execution_count": 705,
   "metadata": {},
   "outputs": [
    {
     "name": "stdout",
     "output_type": "stream",
     "text": [
      "8.314610437328957\n"
     ]
    }
   ],
   "source": [
    "accidents_final_df.rename(columns = {'Wind_Speed(mph)':'Wind_Speed'}, inplace = True)\n",
    "print(accidents_final_df.Wind_Speed.mean())\n",
    "accidents_final_df['Wind_Speed'].fillna(accidents_final_df.Wind_Speed.mean(),inplace= True)"
   ]
  },
  {
   "cell_type": "code",
   "execution_count": 706,
   "metadata": {},
   "outputs": [
    {
     "name": "stdout",
     "output_type": "stream",
     "text": [
      "Total count of null values for the column Wind_Speed = 0\n",
      "Ratio between total number of values of the column respect to its null values = 0.0\n"
     ]
    }
   ],
   "source": [
    "column_na_count = accidents_final_df['Wind_Speed'].isna().sum()\n",
    "ratio = column_na_count/accidents_final_df.shape[0]\n",
    "print(\"Total count of null values for the column \" + str('Wind_Speed') + \" = \" + str(column_na_count))\n",
    "print(\"Ratio between total number of values of the column respect to its null values = \" + str(ratio))"
   ]
  },
  {
   "attachments": {},
   "cell_type": "markdown",
   "metadata": {},
   "source": [
    "Anche Wind_Chill(F) è stato rinominato e ai valori nulli è stata applicata la media della feature"
   ]
  },
  {
   "cell_type": "code",
   "execution_count": 707,
   "metadata": {},
   "outputs": [
    {
     "name": "stdout",
     "output_type": "stream",
     "text": [
      "0.018501980493206695\n"
     ]
    }
   ],
   "source": [
    "accidents_final_df.rename(columns = {'Precipitation(in)':'Precipitation'}, inplace = True)\n",
    "print(accidents_final_df.Precipitation.mean())\n",
    "accidents_final_df['Precipitation'].fillna(accidents_final_df.Precipitation.mean(),inplace= True)"
   ]
  },
  {
   "cell_type": "code",
   "execution_count": 708,
   "metadata": {},
   "outputs": [
    {
     "name": "stdout",
     "output_type": "stream",
     "text": [
      "Total count of null values for the column Humidity = 0\n",
      "Ratio between total number of values of the column respect to its null values = 0.0\n"
     ]
    }
   ],
   "source": [
    "accidents_final_df.rename(columns = {'Humidity(%)':'Humidity'}, inplace = True)\n",
    "column_na_count = accidents_final_df['Humidity'].isna().sum()\n",
    "ratio = column_na_count/accidents_final_df.shape[0]\n",
    "print(\"Total count of null values for the column \" + str('Humidity') + \" = \" + str(column_na_count))\n",
    "print(\"Ratio between total number of values of the column respect to its null values = \" + str(ratio))"
   ]
  },
  {
   "attachments": {},
   "cell_type": "markdown",
   "metadata": {},
   "source": [
    "Anche Humidity(%) è stato rinominato e ai valori nulli è stata applicata la media della feature"
   ]
  },
  {
   "cell_type": "code",
   "execution_count": 709,
   "metadata": {},
   "outputs": [
    {
     "name": "stdout",
     "output_type": "stream",
     "text": [
      "Total count of null values for the column Visibility = 0\n",
      "Ratio between total number of values of the column respect to its null values = 0.0\n"
     ]
    }
   ],
   "source": [
    "column_na_count = accidents_final_df['Visibility'].isna().sum()\n",
    "ratio = column_na_count/accidents_final_df.shape[0]\n",
    "print(\"Total count of null values for the column \" + str('Visibility') + \" = \" + str(column_na_count))\n",
    "print(\"Ratio between total number of values of the column respect to its null values = \" + str(ratio))"
   ]
  },
  {
   "attachments": {},
   "cell_type": "markdown",
   "metadata": {},
   "source": [
    "Anche Visibility(mi) è stata rinominata e messa la media della feature ai valori nulli"
   ]
  },
  {
   "cell_type": "code",
   "execution_count": 710,
   "metadata": {},
   "outputs": [],
   "source": [
    "def visualize_renamed_column(df,column):\n",
    "    column_na_count = df[column].isna().sum()\n",
    "    ratio = column_na_count/df.shape[0]\n",
    "    print(\"Total count of null values for the column \" + str(column) + \" = \" + str(column_na_count))\n",
    "    print(\"Ratio between total number of values of the column respect to its null values = \" + str(ratio))"
   ]
  },
  {
   "cell_type": "code",
   "execution_count": 711,
   "metadata": {},
   "outputs": [
    {
     "name": "stdout",
     "output_type": "stream",
     "text": [
      "Total count of null values for the column Wind_Speed = 0\n",
      "Ratio between total number of values of the column respect to its null values = 0.0\n"
     ]
    }
   ],
   "source": [
    "visualize_renamed_column(accidents_final_df,'Wind_Speed')"
   ]
  },
  {
   "cell_type": "code",
   "execution_count": 712,
   "metadata": {},
   "outputs": [
    {
     "name": "stdout",
     "output_type": "stream",
     "text": [
      "Total count of null values for the column Precipitation = 0\n",
      "Ratio between total number of values of the column respect to its null values = 0.0\n"
     ]
    }
   ],
   "source": [
    "visualize_renamed_column(accidents_final_df,'Precipitation')"
   ]
  },
  {
   "cell_type": "code",
   "execution_count": 713,
   "metadata": {},
   "outputs": [
    {
     "name": "stdout",
     "output_type": "stream",
     "text": [
      "Total count of null values for the column Humidity = 0\n",
      "Ratio between total number of values of the column respect to its null values = 0.0\n"
     ]
    }
   ],
   "source": [
    "visualize_renamed_column(accidents_final_df,'Humidity')"
   ]
  },
  {
   "attachments": {},
   "cell_type": "markdown",
   "metadata": {},
   "source": [
    "Anche di Precipitation ho fatto la media"
   ]
  },
  {
   "cell_type": "code",
   "execution_count": 714,
   "metadata": {},
   "outputs": [],
   "source": [
    "accidents_final_df.Weather_Condition.mode()[0]\n",
    "accidents_final_df.Weather_Condition.fillna(accidents_final_df.Weather_Condition.mode()[0], inplace=True)"
   ]
  },
  {
   "cell_type": "code",
   "execution_count": 715,
   "metadata": {},
   "outputs": [],
   "source": [
    "temp = accidents_final_df[accidents_final_df[na_columns[index_na_columns]].isnull()]\n",
    "index_array = temp.index\n",
    "accidents_final_df.drop(index_array,axis = 0,inplace=True)"
   ]
  },
  {
   "cell_type": "code",
   "execution_count": 716,
   "metadata": {},
   "outputs": [],
   "source": [
    "temp = accidents_final_df[accidents_final_df['Sunrise_Sunset'].isnull()]\n",
    "index_array = temp.index\n",
    "accidents_final_df.drop(index_array,axis = 0,inplace=True)"
   ]
  },
  {
   "attachments": {},
   "cell_type": "markdown",
   "metadata": {},
   "source": [
    "Weather_Condition: null values sostituiti con il valore più frequente"
   ]
  },
  {
   "attachments": {},
   "cell_type": "markdown",
   "metadata": {},
   "source": [
    "Per Sunrise_Sunset ho tolto le righe con i valori null essendo meno di 3000. Inoltre così facendo si può notare che si sono tolti i valori null anche delle rimanenti colonne da esaminare. Quindi avevano i valori null tutte alle stesse righe. I valori mancanti quindi sono stati gestiti"
   ]
  },
  {
   "cell_type": "code",
   "execution_count": 717,
   "metadata": {},
   "outputs": [
    {
     "data": {
      "text/plain": [
       "0"
      ]
     },
     "execution_count": 717,
     "metadata": {},
     "output_type": "execute_result"
    }
   ],
   "source": [
    "accidents_final_df.isna().sum().sum()"
   ]
  },
  {
   "cell_type": "code",
   "execution_count": 718,
   "metadata": {},
   "outputs": [
    {
     "data": {
      "text/plain": [
       "Severity             0\n",
       "Start_Time           0\n",
       "Start_Lat            0\n",
       "Start_Lng            0\n",
       "End_Lat              0\n",
       "End_Lng              0\n",
       "Distance(mi)         0\n",
       "Side                 0\n",
       "Temperature          0\n",
       "Wind_Chill           0\n",
       "Humidity             0\n",
       "Pressure             0\n",
       "Visibility           0\n",
       "Wind_Speed           0\n",
       "Precipitation        0\n",
       "Weather_Condition    0\n",
       "Amenity              0\n",
       "Crossing             0\n",
       "Junction             0\n",
       "Railway              0\n",
       "Station              0\n",
       "Stop                 0\n",
       "Traffic_Signal       0\n",
       "Sunrise_Sunset       0\n",
       "dtype: int64"
      ]
     },
     "execution_count": 718,
     "metadata": {},
     "output_type": "execute_result"
    }
   ],
   "source": [
    "accidents_final_df.isna().sum()"
   ]
  },
  {
   "attachments": {},
   "cell_type": "markdown",
   "metadata": {},
   "source": [
    "DIMENSIONALITY REDUCTION\n",
    "Alcune feature non sono utili alla causa quindi le droppo"
   ]
  },
  {
   "cell_type": "code",
   "execution_count": 719,
   "metadata": {},
   "outputs": [],
   "source": [
    "accidents_without_null = accidents_final_df.copy() "
   ]
  },
  {
   "cell_type": "code",
   "execution_count": 720,
   "metadata": {},
   "outputs": [],
   "source": [
    "from datetime import datetime\n",
    "colonna_giorni = accidents_without_null['Start_Time']\n",
    "colonna_giorni_df = pd.DataFrame(accidents_without_null['Start_Time'])"
   ]
  },
  {
   "cell_type": "code",
   "execution_count": 721,
   "metadata": {},
   "outputs": [],
   "source": [
    "\n",
    "for index,row in colonna_giorni_df.iterrows():\n",
    "    stringa = row[0]\n",
    "    stringa = stringa.split('.')\n",
    "    datetime_object = datetime.strptime(stringa[0], '%Y-%m-%d %H:%M:%S')\n",
    "    colonna_giorni_df.loc[index][0] = datetime_object.weekday()\n",
    "    "
   ]
  },
  {
   "cell_type": "code",
   "execution_count": 722,
   "metadata": {},
   "outputs": [],
   "source": [
    "accidents_without_null['Start_Time'] = colonna_giorni_df"
   ]
  },
  {
   "cell_type": "code",
   "execution_count": 723,
   "metadata": {},
   "outputs": [
    {
     "data": {
      "text/html": [
       "<div>\n",
       "<style scoped>\n",
       "    .dataframe tbody tr th:only-of-type {\n",
       "        vertical-align: middle;\n",
       "    }\n",
       "\n",
       "    .dataframe tbody tr th {\n",
       "        vertical-align: top;\n",
       "    }\n",
       "\n",
       "    .dataframe thead th {\n",
       "        text-align: right;\n",
       "    }\n",
       "</style>\n",
       "<table border=\"1\" class=\"dataframe\">\n",
       "  <thead>\n",
       "    <tr style=\"text-align: right;\">\n",
       "      <th></th>\n",
       "      <th>Severity</th>\n",
       "      <th>Start_Time</th>\n",
       "      <th>Start_Lat</th>\n",
       "      <th>Start_Lng</th>\n",
       "      <th>End_Lat</th>\n",
       "      <th>End_Lng</th>\n",
       "      <th>Distance(mi)</th>\n",
       "      <th>Side</th>\n",
       "      <th>Temperature</th>\n",
       "      <th>Wind_Chill</th>\n",
       "      <th>...</th>\n",
       "      <th>Precipitation</th>\n",
       "      <th>Weather_Condition</th>\n",
       "      <th>Amenity</th>\n",
       "      <th>Crossing</th>\n",
       "      <th>Junction</th>\n",
       "      <th>Railway</th>\n",
       "      <th>Station</th>\n",
       "      <th>Stop</th>\n",
       "      <th>Traffic_Signal</th>\n",
       "      <th>Sunrise_Sunset</th>\n",
       "    </tr>\n",
       "  </thead>\n",
       "  <tbody>\n",
       "    <tr>\n",
       "      <th>2845337</th>\n",
       "      <td>2</td>\n",
       "      <td>4</td>\n",
       "      <td>34.00248</td>\n",
       "      <td>-117.37936</td>\n",
       "      <td>33.99888</td>\n",
       "      <td>-117.37094</td>\n",
       "      <td>0.543</td>\n",
       "      <td>R</td>\n",
       "      <td>86.0</td>\n",
       "      <td>86.0</td>\n",
       "      <td>...</td>\n",
       "      <td>0.0</td>\n",
       "      <td>Fair</td>\n",
       "      <td>False</td>\n",
       "      <td>False</td>\n",
       "      <td>False</td>\n",
       "      <td>False</td>\n",
       "      <td>False</td>\n",
       "      <td>False</td>\n",
       "      <td>False</td>\n",
       "      <td>Day</td>\n",
       "    </tr>\n",
       "    <tr>\n",
       "      <th>2845338</th>\n",
       "      <td>2</td>\n",
       "      <td>4</td>\n",
       "      <td>32.76696</td>\n",
       "      <td>-117.14806</td>\n",
       "      <td>32.76555</td>\n",
       "      <td>-117.15363</td>\n",
       "      <td>0.338</td>\n",
       "      <td>R</td>\n",
       "      <td>70.0</td>\n",
       "      <td>70.0</td>\n",
       "      <td>...</td>\n",
       "      <td>0.0</td>\n",
       "      <td>Fair</td>\n",
       "      <td>False</td>\n",
       "      <td>False</td>\n",
       "      <td>False</td>\n",
       "      <td>False</td>\n",
       "      <td>False</td>\n",
       "      <td>False</td>\n",
       "      <td>False</td>\n",
       "      <td>Day</td>\n",
       "    </tr>\n",
       "    <tr>\n",
       "      <th>2845339</th>\n",
       "      <td>2</td>\n",
       "      <td>4</td>\n",
       "      <td>33.77545</td>\n",
       "      <td>-117.84779</td>\n",
       "      <td>33.77740</td>\n",
       "      <td>-117.85727</td>\n",
       "      <td>0.561</td>\n",
       "      <td>R</td>\n",
       "      <td>73.0</td>\n",
       "      <td>73.0</td>\n",
       "      <td>...</td>\n",
       "      <td>0.0</td>\n",
       "      <td>Partly Cloudy</td>\n",
       "      <td>False</td>\n",
       "      <td>False</td>\n",
       "      <td>True</td>\n",
       "      <td>False</td>\n",
       "      <td>False</td>\n",
       "      <td>False</td>\n",
       "      <td>False</td>\n",
       "      <td>Day</td>\n",
       "    </tr>\n",
       "    <tr>\n",
       "      <th>2845340</th>\n",
       "      <td>2</td>\n",
       "      <td>4</td>\n",
       "      <td>33.99246</td>\n",
       "      <td>-118.40302</td>\n",
       "      <td>33.98311</td>\n",
       "      <td>-118.39565</td>\n",
       "      <td>0.772</td>\n",
       "      <td>R</td>\n",
       "      <td>71.0</td>\n",
       "      <td>71.0</td>\n",
       "      <td>...</td>\n",
       "      <td>0.0</td>\n",
       "      <td>Fair</td>\n",
       "      <td>False</td>\n",
       "      <td>False</td>\n",
       "      <td>False</td>\n",
       "      <td>False</td>\n",
       "      <td>False</td>\n",
       "      <td>False</td>\n",
       "      <td>False</td>\n",
       "      <td>Day</td>\n",
       "    </tr>\n",
       "    <tr>\n",
       "      <th>2845341</th>\n",
       "      <td>2</td>\n",
       "      <td>4</td>\n",
       "      <td>34.13393</td>\n",
       "      <td>-117.23092</td>\n",
       "      <td>34.13736</td>\n",
       "      <td>-117.23934</td>\n",
       "      <td>0.537</td>\n",
       "      <td>R</td>\n",
       "      <td>79.0</td>\n",
       "      <td>79.0</td>\n",
       "      <td>...</td>\n",
       "      <td>0.0</td>\n",
       "      <td>Fair</td>\n",
       "      <td>False</td>\n",
       "      <td>False</td>\n",
       "      <td>False</td>\n",
       "      <td>False</td>\n",
       "      <td>False</td>\n",
       "      <td>False</td>\n",
       "      <td>False</td>\n",
       "      <td>Day</td>\n",
       "    </tr>\n",
       "  </tbody>\n",
       "</table>\n",
       "<p>5 rows × 24 columns</p>\n",
       "</div>"
      ],
      "text/plain": [
       "         Severity Start_Time  Start_Lat  Start_Lng   End_Lat    End_Lng  \\\n",
       "2845337         2          4   34.00248 -117.37936  33.99888 -117.37094   \n",
       "2845338         2          4   32.76696 -117.14806  32.76555 -117.15363   \n",
       "2845339         2          4   33.77545 -117.84779  33.77740 -117.85727   \n",
       "2845340         2          4   33.99246 -118.40302  33.98311 -118.39565   \n",
       "2845341         2          4   34.13393 -117.23092  34.13736 -117.23934   \n",
       "\n",
       "         Distance(mi) Side  Temperature  Wind_Chill  ...  Precipitation  \\\n",
       "2845337         0.543    R         86.0        86.0  ...            0.0   \n",
       "2845338         0.338    R         70.0        70.0  ...            0.0   \n",
       "2845339         0.561    R         73.0        73.0  ...            0.0   \n",
       "2845340         0.772    R         71.0        71.0  ...            0.0   \n",
       "2845341         0.537    R         79.0        79.0  ...            0.0   \n",
       "\n",
       "         Weather_Condition  Amenity  Crossing  Junction Railway  Station  \\\n",
       "2845337               Fair    False     False     False   False    False   \n",
       "2845338               Fair    False     False     False   False    False   \n",
       "2845339      Partly Cloudy    False     False      True   False    False   \n",
       "2845340               Fair    False     False     False   False    False   \n",
       "2845341               Fair    False     False     False   False    False   \n",
       "\n",
       "          Stop  Traffic_Signal  Sunrise_Sunset  \n",
       "2845337  False           False             Day  \n",
       "2845338  False           False             Day  \n",
       "2845339  False           False             Day  \n",
       "2845340  False           False             Day  \n",
       "2845341  False           False             Day  \n",
       "\n",
       "[5 rows x 24 columns]"
      ]
     },
     "execution_count": 723,
     "metadata": {},
     "output_type": "execute_result"
    }
   ],
   "source": [
    "accidents_without_null.tail(5)"
   ]
  },
  {
   "cell_type": "code",
   "execution_count": 724,
   "metadata": {},
   "outputs": [],
   "source": [
    "def examine_column_distribution(column):\n",
    "    print(\"the feature \" + str(column) + \" is distributed this way: \")\n",
    "    print(accidents_without_null[column].value_counts())\n"
   ]
  },
  {
   "attachments": {},
   "cell_type": "markdown",
   "metadata": {},
   "source": [
    "Regarding the features about twilights, they are different ways of considering the start of the day by different point of views:\n",
    "\n",
    "Civil Twilight: morning civil twilight begins when the geometric center of the sun is 6 degrees below the horizon, and ends at sunrise\n",
    "Nautical Twilight: Begins in the morning, or ends in the evening, when the geometric center of the sun is 12 degrees below the horizon\n",
    "Astronomical Twilight: Begins in the morning, or ends in the evening, when the geometric center of the sun is 18 degrees below the horizon\n",
    "\n",
    "The measure that is more fit to us is actually the Sunrise Sunset, which takes into account the start of the day by the rising of the sun. Therefore the Sunrise Sunset is kept while the others are dropped."
   ]
  },
  {
   "cell_type": "code",
   "execution_count": 725,
   "metadata": {},
   "outputs": [
    {
     "data": {
      "text/plain": [
       "(606668, 24)"
      ]
     },
     "execution_count": 725,
     "metadata": {},
     "output_type": "execute_result"
    }
   ],
   "source": [
    "accidents_without_null.shape"
   ]
  },
  {
   "cell_type": "code",
   "execution_count": 726,
   "metadata": {},
   "outputs": [],
   "source": [
    "def convert_boolean_column_to_int(column):\n",
    "    temp = list(map(int,accidents_without_null[column]))\n",
    "    accidents_without_null[column] = temp"
   ]
  },
  {
   "cell_type": "code",
   "execution_count": 727,
   "metadata": {},
   "outputs": [],
   "source": [
    "columns_to_convert = ['Amenity','Crossing','Junction','Railway','Station','Stop','Traffic_Signal']\n",
    "\n",
    "for column_target in columns_to_convert:\n",
    "    convert_boolean_column_to_int(column_target)"
   ]
  },
  {
   "cell_type": "code",
   "execution_count": 728,
   "metadata": {},
   "outputs": [],
   "source": [
    "def day_night(record):\n",
    "    if record == 'Night':\n",
    "        return 0\n",
    "    elif record == 'Day':\n",
    "        return 1\n",
    "\n",
    "temp = list(map(day_night,accidents_without_null['Sunrise_Sunset']))\n",
    "accidents_without_null['Sunrise_Sunset'] = temp"
   ]
  },
  {
   "cell_type": "code",
   "execution_count": 729,
   "metadata": {},
   "outputs": [],
   "source": [
    "def day_night(record):\n",
    "    if record == 'L':\n",
    "        return 0\n",
    "    elif record == 'R':\n",
    "        return 1\n",
    "\n",
    "temp = list(map(day_night,accidents_without_null['Side']))\n",
    "accidents_without_null['Side'] = temp"
   ]
  },
  {
   "cell_type": "code",
   "execution_count": 730,
   "metadata": {},
   "outputs": [
    {
     "data": {
      "text/plain": [
       "(606668, 24)"
      ]
     },
     "execution_count": 730,
     "metadata": {},
     "output_type": "execute_result"
    }
   ],
   "source": [
    "accidents_without_null.shape"
   ]
  },
  {
   "cell_type": "code",
   "execution_count": 731,
   "metadata": {},
   "outputs": [],
   "source": [
    "def change(record):\n",
    "    if record == 2:\n",
    "        return 0\n",
    "    elif record == 3:\n",
    "        return 1\n",
    "\n",
    "temp = list(map(change,accidents_without_null['Severity']))\n",
    "accidents_without_null['Severity'] = temp\n",
    "\n",
    "def change_day(record):\n",
    "    if record == 0:\n",
    "        return str('monday')\n",
    "    elif record == 1:\n",
    "        return str('tuesday')\n",
    "    if record == 2:\n",
    "        return str('wednesday')\n",
    "    elif record == 3:\n",
    "        return str('thursday')\n",
    "    if record == 4:\n",
    "        return str('friday')\n",
    "    elif record == 5:\n",
    "        return str('saturday')\n",
    "    if record == 6:\n",
    "        return str('sunday')\n",
    "\n",
    "temp = list(map(change_day,accidents_without_null['Start_Time']))\n",
    "accidents_without_null['Start_Time'] = temp\n",
    "\n",
    "for column in accidents_without_null.columns:\n",
    "    if column in ['Start_Time']:\n",
    "      dummies = pd.get_dummies(accidents_without_null[column],drop_first=False)\n",
    "      accidents_without_null = pd.concat([accidents_without_null,dummies],axis=1)\n",
    "      accidents_without_null.drop(column,axis=1,inplace=True)"
   ]
  },
  {
   "cell_type": "code",
   "execution_count": 736,
   "metadata": {},
   "outputs": [
    {
     "data": {
      "text/plain": [
       "0          1\n",
       "1          0\n",
       "2          0\n",
       "3          0\n",
       "4          1\n",
       "          ..\n",
       "2845337    0\n",
       "2845338    0\n",
       "2845339    0\n",
       "2845340    0\n",
       "2845341    0\n",
       "Name: Severity, Length: 606668, dtype: int64"
      ]
     },
     "execution_count": 736,
     "metadata": {},
     "output_type": "execute_result"
    }
   ],
   "source": [
    "accidents_without_null['Severity']"
   ]
  },
  {
   "cell_type": "code",
   "execution_count": 732,
   "metadata": {},
   "outputs": [],
   "source": [
    "accidents_without_null.to_csv('pre-processed_dataset_pre_dummies.csv')"
   ]
  },
  {
   "cell_type": "code",
   "execution_count": 733,
   "metadata": {},
   "outputs": [],
   "source": [
    "for column in accidents_without_null.columns:\n",
    "    if column in ['Weather_Condition']:\n",
    "      dummies = pd.get_dummies(accidents_without_null[column],drop_first=False)\n",
    "      accidents_without_null = pd.concat([accidents_without_null,dummies],axis=1)\n",
    "      accidents_without_null.drop(column,axis=1,inplace=True)"
   ]
  },
  {
   "cell_type": "code",
   "execution_count": 734,
   "metadata": {},
   "outputs": [
    {
     "data": {
      "text/plain": [
       "(606668, 125)"
      ]
     },
     "execution_count": 734,
     "metadata": {},
     "output_type": "execute_result"
    }
   ],
   "source": [
    "accidents_without_null.shape"
   ]
  },
  {
   "cell_type": "code",
   "execution_count": 735,
   "metadata": {},
   "outputs": [],
   "source": [
    "accidents_without_null.to_csv('pre-processed_dataset_no_state.csv')"
   ]
  }
 ],
 "metadata": {
  "kernelspec": {
   "display_name": "dmml",
   "language": "python",
   "name": "python3"
  },
  "language_info": {
   "codemirror_mode": {
    "name": "ipython",
    "version": 3
   },
   "file_extension": ".py",
   "mimetype": "text/x-python",
   "name": "python",
   "nbconvert_exporter": "python",
   "pygments_lexer": "ipython3",
   "version": "3.9.13"
  },
  "orig_nbformat": 4
 },
 "nbformat": 4,
 "nbformat_minor": 2
}
