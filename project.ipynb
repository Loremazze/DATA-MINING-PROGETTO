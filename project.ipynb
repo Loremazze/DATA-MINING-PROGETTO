{
 "cells": [
  {
   "cell_type": "code",
   "execution_count": 1,
   "metadata": {},
   "outputs": [],
   "source": [
    "import pandas as pd\n",
    "\n",
    "accidents_df = pd.read_csv('dataset/US_Accidents_Dec21_updated.csv')\n",
    "accidents_copy = accidents_df.copy()"
   ]
  },
  {
   "attachments": {},
   "cell_type": "markdown",
   "metadata": {},
   "source": [
    "Visualizzazione delle caratteristiche del Dataset: numero di righe, numero di features e output a video delle prime 10 righe del dataset"
   ]
  },
  {
   "cell_type": "code",
   "execution_count": 2,
   "metadata": {},
   "outputs": [
    {
     "data": {
      "text/plain": [
       "(2845342, 47)"
      ]
     },
     "execution_count": 2,
     "metadata": {},
     "output_type": "execute_result"
    }
   ],
   "source": [
    "accidents_copy.shape"
   ]
  },
  {
   "cell_type": "code",
   "execution_count": 2,
   "metadata": {},
   "outputs": [],
   "source": [
    "accidents_copy.drop('ID',axis=1,inplace=True)"
   ]
  },
  {
   "cell_type": "code",
   "execution_count": 3,
   "metadata": {},
   "outputs": [],
   "source": [
    "accidents_copy.drop('Country',axis=1,inplace=True)\n",
    "accidents_copy.drop('State',axis=1,inplace=True)\n",
    "accidents_copy.drop('Wind_Direction',axis=1,inplace=True)\n",
    "accidents_copy.drop('Nautical_Twilight',axis=1,inplace=True)"
   ]
  },
  {
   "cell_type": "code",
   "execution_count": 4,
   "metadata": {},
   "outputs": [],
   "source": [
    "accidents_copy.drop('City',axis=1,inplace=True)\n",
    "accidents_copy.drop('County',axis=1,inplace=True)\n",
    "accidents_copy.drop('End_Time',axis=1,inplace=True)\n",
    "accidents_copy.drop('Street',axis=1,inplace=True)\n",
    "accidents_copy.drop('Description',axis=1,inplace=True)\n",
    "accidents_copy.drop('Roundabout',axis=1,inplace=True)\n",
    "accidents_copy.drop('Traffic_Calming',axis=1,inplace=True)\n",
    "accidents_copy.drop('Turning_Loop',axis=1,inplace=True)\n",
    "accidents_copy.drop('Astronomical_Twilight',axis=1,inplace=True)\n",
    "accidents_copy.drop('Bump',axis=1,inplace=True)\n",
    "accidents_copy.drop('Civil_Twilight',axis=1,inplace=True)\n",
    "accidents_copy.drop('Give_Way',axis=1,inplace=True)\n",
    "accidents_copy.drop('No_Exit',axis=1,inplace=True)"
   ]
  },
  {
   "cell_type": "code",
   "execution_count": 5,
   "metadata": {},
   "outputs": [],
   "source": [
    "accidents_copy.drop('Timezone',axis=1,inplace=True)\n",
    "accidents_copy.drop('Airport_Code',axis=1,inplace=True)"
   ]
  },
  {
   "cell_type": "code",
   "execution_count": 6,
   "metadata": {},
   "outputs": [],
   "source": [
    "from imblearn.over_sampling._smote.base import Counter\n",
    "\n",
    "lista_da_eliminare = []\n",
    "lista_check = []\n",
    "lista_weather = Counter(accidents_copy['Weather_Condition'])\n",
    "\n",
    "for elemento in lista_weather.keys():\n",
    "    if lista_weather[elemento] < 100:\n",
    "        lista_check.append(elemento)\n",
    "\n",
    "for index,row in accidents_copy.iterrows():\n",
    "    indice = row['Severity']\n",
    "    stringa = row['Start_Time'].split('-')\n",
    "    stringa = stringa[0]\n",
    "    if stringa == '2021' or stringa == '2020' or indice == 1 or indice == 4:\n",
    "        lista_da_eliminare.append(index)\n",
    "\n",
    "def change(record):\n",
    "    if record == 2:\n",
    "        return 0\n",
    "    elif record == 3:\n",
    "        return 1\n",
    "\n",
    "temp = list(map(change,accidents_copy['Severity']))\n",
    "accidents_copy['Severity'] = temp\n",
    "\n",
    "accidents_copy.drop(labels=lista_da_eliminare,inplace=True)\n"
   ]
  },
  {
   "attachments": {},
   "cell_type": "markdown",
   "metadata": {},
   "source": [
    "Controllo di valori null, valori mancanti e altre inconsistency nel dataset"
   ]
  },
  {
   "cell_type": "code",
   "execution_count": 7,
   "metadata": {},
   "outputs": [],
   "source": [
    "accidents_copy.drop('Zipcode',axis = 1,inplace=True)\n",
    "check = accidents_copy.isna().sum()"
   ]
  },
  {
   "cell_type": "code",
   "execution_count": 8,
   "metadata": {},
   "outputs": [
    {
     "data": {
      "text/plain": [
       "Severity                  0\n",
       "Start_Time                0\n",
       "Start_Lat                 0\n",
       "Start_Lng                 0\n",
       "End_Lat                   0\n",
       "End_Lng                   0\n",
       "Distance(mi)              0\n",
       "Side                      0\n",
       "Temperature(F)        15420\n",
       "Wind_Chill(F)        351617\n",
       "Humidity(%)           16059\n",
       "Pressure(in)          13027\n",
       "Visibility(mi)        16547\n",
       "Wind_Speed(mph)       82551\n",
       "Precipitation(in)    385856\n",
       "Weather_Condition     16736\n",
       "Amenity                   0\n",
       "Crossing                  0\n",
       "Junction                  0\n",
       "Railway                   0\n",
       "Station                   0\n",
       "Stop                      0\n",
       "Traffic_Signal            0\n",
       "Sunrise_Sunset           24\n",
       "dtype: int64"
      ]
     },
     "execution_count": 8,
     "metadata": {},
     "output_type": "execute_result"
    }
   ],
   "source": [
    "accidents_copy.isna().sum()"
   ]
  },
  {
   "cell_type": "code",
   "execution_count": 10,
   "metadata": {},
   "outputs": [],
   "source": [
    "columns_names = accidents_copy.columns.values.tolist()\n",
    "na_columns = []\n",
    "\n",
    "for index in range(len(check)):\n",
    "    if check[index] != 0:\n",
    "        na_columns.append(columns_names[index])"
   ]
  },
  {
   "attachments": {},
   "cell_type": "markdown",
   "metadata": {},
   "source": [
    "Qui otteniamo i nomi delle colonne che contengono null values da gestire in modo da processare le singole colonne indipendentemente"
   ]
  },
  {
   "cell_type": "code",
   "execution_count": 11,
   "metadata": {},
   "outputs": [
    {
     "name": "stdout",
     "output_type": "stream",
     "text": [
      "['Number', 'Weather_Timestamp', 'Temperature(F)', 'Wind_Chill(F)', 'Humidity(%)', 'Pressure(in)', 'Visibility(mi)', 'Wind_Speed(mph)', 'Precipitation(in)', 'Weather_Condition', 'Sunrise_Sunset']\n",
      "11\n",
      "['Number', 'Weather_Timestamp', 'Temperature(F)', 'Wind_Chill(F)', 'Humidity(%)', 'Pressure(in)', 'Visibility(mi)', 'Wind_Speed(mph)', 'Precipitation(in)', 'Weather_Condition', 'Sunrise_Sunset']\n"
     ]
    }
   ],
   "source": [
    "print(na_columns)\n",
    "len_na_columns = len(na_columns)\n",
    "index_na_columns = 0\n",
    "print(len_na_columns)\n",
    "print(na_columns)"
   ]
  },
  {
   "attachments": {},
   "cell_type": "markdown",
   "metadata": {},
   "source": [
    "Some considerations on the column: Number is a numerical attribute and has we can see it has more than hal of the value null. We could consider to replace the null values but the best alternative is to drop the column because it is useless in our problem: it just shows the street number"
   ]
  },
  {
   "cell_type": "code",
   "execution_count": 12,
   "metadata": {},
   "outputs": [],
   "source": [
    "accidents_final_df = accidents_copy\n",
    "accidents_final_df.drop('Number',axis = 1,inplace=True)\n",
    "accidents_final_df.drop('Weather_Timestamp',axis = 1,inplace=True)\n",
    "index_na_columns += 2"
   ]
  },
  {
   "cell_type": "code",
   "execution_count": 13,
   "metadata": {},
   "outputs": [
    {
     "data": {
      "text/plain": [
       "(622749, 24)"
      ]
     },
     "execution_count": 13,
     "metadata": {},
     "output_type": "execute_result"
    }
   ],
   "source": [
    "accidents_final_df.shape"
   ]
  },
  {
   "cell_type": "code",
   "execution_count": 14,
   "metadata": {},
   "outputs": [],
   "source": [
    "accidents_final_df.rename(columns = {'Wind_Chill(F)':'Wind_Chill'}, inplace = True)\n",
    "accidents_final_df.rename(columns = {'Pressure(in)':'Pressure'}, inplace = True)\n",
    "accidents_final_df.rename(columns = {'Visibility(mi)':'Visibility'}, inplace = True)\n",
    "accidents_final_df.rename(columns = {'Temperature(F)':'Temperature'}, inplace = True)\n",
    "accidents_final_df.rename(columns = {'Wind_Speed(mph)':'Wind_Speed'}, inplace = True)\n",
    "accidents_final_df.rename(columns = {'Precipitation(in)':'Precipitation'}, inplace = True)\n",
    "accidents_final_df.rename(columns = {'Humidity(%)':'Humidity'}, inplace = True)\n",
    "\n"
   ]
  },
  {
   "cell_type": "code",
   "execution_count": 15,
   "metadata": {},
   "outputs": [],
   "source": [
    "def examin_column_final(current_index):\n",
    "    if current_index >= len_na_columns:\n",
    "        return \n",
    "    column_name = na_columns[current_index]\n",
    "    column_na_count = accidents_final_df[column_name].isna().sum()\n",
    "    ratio = column_na_count/accidents_final_df.shape[0]\n",
    "    print(\"Total count of null values for the column \" + str(column_name) + \" = \" + str(column_na_count))\n",
    "    print(\"Ratio between total number of values of the column respect to its null values = \" + str(ratio))\n",
    "\n",
    "def visualize_renamed_column(df,column):\n",
    "    column_na_count = df[column].isna().sum()\n",
    "    ratio = column_na_count/df.shape[0]\n",
    "    print(\"Total count of null values for the column \" + str(column) + \" = \" + str(column_na_count))\n",
    "    print(\"Ratio between total number of values of the column respect to its null values = \" + str(ratio))\n"
   ]
  },
  {
   "cell_type": "code",
   "execution_count": 16,
   "metadata": {},
   "outputs": [],
   "source": [
    "temp = accidents_final_df[accidents_final_df['Temperature'].isnull()]\n",
    "index_array = temp.index\n",
    "accidents_final_df.drop(index_array,axis = 0,inplace=True)\n",
    "\n",
    "temp = accidents_final_df[accidents_final_df['Humidity'].isnull()]\n",
    "index_array = temp.index\n",
    "accidents_final_df.drop(index_array,axis = 0,inplace=True)\n",
    "\n",
    "temp = accidents_final_df[accidents_final_df['Sunrise_Sunset'].isnull()]\n",
    "index_array = temp.index\n",
    "accidents_final_df.drop(index_array,axis = 0,inplace=True)\n",
    "\n",
    "\n",
    "#examin_column_final(index_na_columns)\n",
    "index_na_columns += 1\n",
    "\n",
    "#examin_column_final(index_na_columns)\n",
    "index_na_columns += 1"
   ]
  },
  {
   "cell_type": "code",
   "execution_count": 17,
   "metadata": {},
   "outputs": [
    {
     "data": {
      "text/plain": [
       "(606668, 24)"
      ]
     },
     "execution_count": 17,
     "metadata": {},
     "output_type": "execute_result"
    }
   ],
   "source": [
    "accidents_final_df.shape"
   ]
  },
  {
   "cell_type": "code",
   "execution_count": 18,
   "metadata": {},
   "outputs": [
    {
     "name": "stdout",
     "output_type": "stream",
     "text": [
      "Clear\n"
     ]
    }
   ],
   "source": [
    "from datetime import datetime\n",
    "\n",
    "def change_format(df):\n",
    "    colonna_giorni = df['Start_Time']\n",
    "    colonna_giorni_df = pd.DataFrame(df['Start_Time'])\n",
    "\n",
    "\n",
    "    for index,row in colonna_giorni_df.iterrows():\n",
    "        stringa = row[0]\n",
    "        stringa = stringa.split('.')\n",
    "        datetime_object = datetime.strptime(stringa[0], '%Y-%m-%d %H:%M:%S')\n",
    "        colonna_giorni_df.loc[index][0] = datetime_object.weekday()\n",
    "    \n",
    "\n",
    "    accidents_final_df['Start_Time'] = colonna_giorni_df\n",
    "\n",
    "change_format(accidents_final_df)\n",
    "\n",
    "def change_day(record):\n",
    "    if record == 0:\n",
    "        return str('monday')\n",
    "    elif record == 1:\n",
    "        return str('tuesday')\n",
    "    if record == 2:\n",
    "        return str('wednesday')\n",
    "    elif record == 3:\n",
    "        return str('thursday')\n",
    "    if record == 4:\n",
    "        return str('friday')\n",
    "    elif record == 5:\n",
    "        return str('saturday')\n",
    "    if record == 6:\n",
    "        return str('sunday')\n",
    "\n",
    "temp = list(map(change_day,accidents_final_df['Start_Time']))\n",
    "accidents_final_df['Start_Time'] = temp\n",
    "\n",
    "for column in accidents_final_df.columns:\n",
    "    if column in ['Start_Time']:\n",
    "      dummies = pd.get_dummies(accidents_final_df[column],drop_first=False)\n",
    "      accidents_final_df = pd.concat([accidents_final_df,dummies],axis=1)\n",
    "      accidents_final_df.drop(column,axis=1,inplace=True)\n",
    "\n",
    "accidents_final_df.to_csv('pre-processed_dataset_pre_dummies.csv')\n",
    "\n",
    "print(accidents_final_df.Weather_Condition.mode()[0])\n",
    "accidents_final_df['Weather_Condition'].fillna(accidents_final_df.Weather_Condition.mode()[0], inplace=True)\n",
    "\n",
    "for column in accidents_final_df.columns:\n",
    "    if column in ['Weather_Condition']:\n",
    "      dummies = pd.get_dummies(accidents_final_df[column],drop_first=False)\n",
    "      accidents_final_df = pd.concat([accidents_final_df,dummies],axis=1)\n",
    "      accidents_final_df.drop(column,axis=1,inplace=True)\n"
   ]
  },
  {
   "cell_type": "code",
   "execution_count": 19,
   "metadata": {},
   "outputs": [],
   "source": [
    "from sklearn.model_selection import train_test_split\n",
    "\n",
    "\n",
    "y = accidents_final_df['Severity']\n",
    "X = accidents_final_df.drop('Severity',axis=1)\n",
    "\n",
    "X_train, X_test, y_train, y_test = train_test_split(X, y, random_state=42)"
   ]
  },
  {
   "cell_type": "code",
   "execution_count": 20,
   "metadata": {},
   "outputs": [
    {
     "data": {
      "text/plain": [
       "(455001,)"
      ]
     },
     "execution_count": 20,
     "metadata": {},
     "output_type": "execute_result"
    }
   ],
   "source": [
    "y_train.shape"
   ]
  },
  {
   "cell_type": "code",
   "execution_count": 21,
   "metadata": {},
   "outputs": [
    {
     "name": "stdout",
     "output_type": "stream",
     "text": [
      "51.89178936409016\n",
      "29.72655454027685\n",
      "9.20220660453869\n",
      "61.55497504401091\n",
      "8.314594872157427\n",
      "0.01850152696791451\n",
      "51.90507052936426\n",
      "29.726420525712186\n",
      "9.202509924123305\n",
      "61.57169171056768\n",
      "8.307519865832752\n",
      "0.01838563952199929\n",
      "51.85202890002948\n",
      "29.726956478681682\n",
      "9.201296893239945\n",
      "61.50482504434056\n",
      "8.335810680117248\n",
      "0.018848391047010003\n"
     ]
    }
   ],
   "source": [
    "def mean_mode_nan(df):\n",
    "\n",
    "    index_na_columns = 2\n",
    "\n",
    "    print(df.Wind_Chill.mean())\n",
    "    df['Wind_Chill'].fillna(df.Wind_Chill.mean(),inplace= True)\n",
    "    #examin_column_final(index_na_columns)\n",
    "\n",
    "    #Anche in questo caso si parla di un numero infinitesimale di tuple, l'alternativa migliore è eliminarle, la percentuale di perdita è minima\n",
    "    #Stesso discorso, in questo caso può essere droppata completamente la feature in quanto non rilevante per il nostro problema (lo zipcode è il codice di avviamento postale) \n",
    "    #Droppo le righe direttamente\n",
    "\n",
    "    #examin_column_final(index_na_columns)\n",
    "    index_na_columns += 1\n",
    "\n",
    "    #examin_column_final(index_na_columns)\n",
    "    index_na_columns += 1\n",
    "\n",
    "    print(df.Pressure.mean())\n",
    "    df['Pressure'].fillna(df.Pressure.mean(),inplace= True)\n",
    "\n",
    "    #examin_column_final(index_na_columns)\n",
    "    index_na_columns += 1\n",
    "\n",
    "    print(df.Visibility.mean())\n",
    "    df['Visibility'].fillna(df.Visibility.mean(),inplace= True)\n",
    "\n",
    "    #examin_column_final(index_na_columns)\n",
    "    index_na_columns += 1\n",
    "\n",
    "    print(df.Temperature.mean())\n",
    "    df['Temperature'].fillna(df.Temperature.mean(),inplace= True)\n",
    "\n",
    "    index_na_columns += 1\n",
    "    #examin_column_final(index_na_columns)\n",
    "\n",
    "    print(df.Wind_Speed.mean())\n",
    "    df['Wind_Speed'].fillna(df.Wind_Speed.mean(),inplace= True)\n",
    "\n",
    "    print(df.Precipitation.mean())\n",
    "    df['Precipitation'].fillna(df.Precipitation.mean(),inplace= True)\n",
    "\n",
    "    index_na_columns = 0\n",
    "\n",
    "mean_mode_nan(accidents_final_df)\n",
    "mean_mode_nan(X_train)\n",
    "mean_mode_nan(X_test)"
   ]
  },
  {
   "cell_type": "code",
   "execution_count": 22,
   "metadata": {},
   "outputs": [
    {
     "name": "stdout",
     "output_type": "stream",
     "text": [
      "Total count of null values for the column Temperature = 0\n",
      "Ratio between total number of values of the column respect to its null values = 0.0\n",
      "Total count of null values for the column Wind_Speed = 0\n",
      "Ratio between total number of values of the column respect to its null values = 0.0\n",
      "Total count of null values for the column Precipitation = 0\n",
      "Ratio between total number of values of the column respect to its null values = 0.0\n",
      "Total count of null values for the column Humidity = 0\n",
      "Ratio between total number of values of the column respect to its null values = 0.0\n",
      "Total count of null values for the column Visibility = 0\n",
      "Ratio between total number of values of the column respect to its null values = 0.0\n"
     ]
    }
   ],
   "source": [
    "visualize_renamed_column(accidents_final_df,'Temperature')\n",
    "visualize_renamed_column(accidents_final_df,'Wind_Speed')\n",
    "visualize_renamed_column(accidents_final_df,'Precipitation')\n",
    "visualize_renamed_column(accidents_final_df,'Humidity')\n",
    "visualize_renamed_column(accidents_final_df,'Visibility')"
   ]
  },
  {
   "cell_type": "code",
   "execution_count": 23,
   "metadata": {},
   "outputs": [
    {
     "data": {
      "text/plain": [
       "0"
      ]
     },
     "execution_count": 23,
     "metadata": {},
     "output_type": "execute_result"
    }
   ],
   "source": [
    "X_train.isna().sum().sum()\n"
   ]
  },
  {
   "cell_type": "code",
   "execution_count": 24,
   "metadata": {},
   "outputs": [
    {
     "data": {
      "text/plain": [
       "(455001, 124)"
      ]
     },
     "execution_count": 24,
     "metadata": {},
     "output_type": "execute_result"
    }
   ],
   "source": [
    "X_train.shape\n",
    "#y_train.shape"
   ]
  },
  {
   "cell_type": "code",
   "execution_count": 25,
   "metadata": {},
   "outputs": [
    {
     "data": {
      "text/plain": [
       "(151667,)"
      ]
     },
     "execution_count": 25,
     "metadata": {},
     "output_type": "execute_result"
    }
   ],
   "source": [
    "X_test.shape\n",
    "y_test.shape"
   ]
  },
  {
   "cell_type": "code",
   "execution_count": 26,
   "metadata": {},
   "outputs": [
    {
     "data": {
      "text/plain": [
       "0"
      ]
     },
     "execution_count": 26,
     "metadata": {},
     "output_type": "execute_result"
    }
   ],
   "source": [
    "X_test.isna().sum().sum()"
   ]
  },
  {
   "cell_type": "code",
   "execution_count": 27,
   "metadata": {},
   "outputs": [
    {
     "data": {
      "text/plain": [
       "Start_Lat             0\n",
       "Start_Lng             0\n",
       "End_Lat               0\n",
       "End_Lng               0\n",
       "Distance(mi)          0\n",
       "                     ..\n",
       "Tornado               0\n",
       "Volcanic Ash          0\n",
       "Widespread Dust       0\n",
       "Wintry Mix            0\n",
       "Wintry Mix / Windy    0\n",
       "Length: 124, dtype: int64"
      ]
     },
     "execution_count": 27,
     "metadata": {},
     "output_type": "execute_result"
    }
   ],
   "source": [
    "X_train.isna().sum()\n"
   ]
  },
  {
   "cell_type": "code",
   "execution_count": 28,
   "metadata": {},
   "outputs": [
    {
     "data": {
      "text/plain": [
       "Start_Lat             0\n",
       "Start_Lng             0\n",
       "End_Lat               0\n",
       "End_Lng               0\n",
       "Distance(mi)          0\n",
       "                     ..\n",
       "Tornado               0\n",
       "Volcanic Ash          0\n",
       "Widespread Dust       0\n",
       "Wintry Mix            0\n",
       "Wintry Mix / Windy    0\n",
       "Length: 124, dtype: int64"
      ]
     },
     "execution_count": 28,
     "metadata": {},
     "output_type": "execute_result"
    }
   ],
   "source": [
    "X_test.isna().sum()\n"
   ]
  },
  {
   "attachments": {},
   "cell_type": "markdown",
   "metadata": {},
   "source": [
    "DIMENSIONALITY REDUCTION\n",
    "Alcune feature non sono utili alla causa quindi le droppo"
   ]
  },
  {
   "cell_type": "code",
   "execution_count": 29,
   "metadata": {},
   "outputs": [],
   "source": [
    "accidents_without_null = accidents_final_df.copy() "
   ]
  },
  {
   "cell_type": "code",
   "execution_count": 30,
   "metadata": {},
   "outputs": [
    {
     "data": {
      "text/html": [
       "<div>\n",
       "<style scoped>\n",
       "    .dataframe tbody tr th:only-of-type {\n",
       "        vertical-align: middle;\n",
       "    }\n",
       "\n",
       "    .dataframe tbody tr th {\n",
       "        vertical-align: top;\n",
       "    }\n",
       "\n",
       "    .dataframe thead th {\n",
       "        text-align: right;\n",
       "    }\n",
       "</style>\n",
       "<table border=\"1\" class=\"dataframe\">\n",
       "  <thead>\n",
       "    <tr style=\"text-align: right;\">\n",
       "      <th></th>\n",
       "      <th>Severity</th>\n",
       "      <th>Start_Lat</th>\n",
       "      <th>Start_Lng</th>\n",
       "      <th>End_Lat</th>\n",
       "      <th>End_Lng</th>\n",
       "      <th>Distance(mi)</th>\n",
       "      <th>Side</th>\n",
       "      <th>Temperature</th>\n",
       "      <th>Wind_Chill</th>\n",
       "      <th>Humidity</th>\n",
       "      <th>...</th>\n",
       "      <th>Thunder / Windy</th>\n",
       "      <th>Thunder and Hail / Windy</th>\n",
       "      <th>Thunder in the Vicinity</th>\n",
       "      <th>Thunderstorm</th>\n",
       "      <th>Thunderstorms and Rain</th>\n",
       "      <th>Tornado</th>\n",
       "      <th>Volcanic Ash</th>\n",
       "      <th>Widespread Dust</th>\n",
       "      <th>Wintry Mix</th>\n",
       "      <th>Wintry Mix / Windy</th>\n",
       "    </tr>\n",
       "  </thead>\n",
       "  <tbody>\n",
       "    <tr>\n",
       "      <th>2845337</th>\n",
       "      <td>0.0</td>\n",
       "      <td>34.00248</td>\n",
       "      <td>-117.37936</td>\n",
       "      <td>33.99888</td>\n",
       "      <td>-117.37094</td>\n",
       "      <td>0.543</td>\n",
       "      <td>R</td>\n",
       "      <td>86.0</td>\n",
       "      <td>86.0</td>\n",
       "      <td>40.0</td>\n",
       "      <td>...</td>\n",
       "      <td>0</td>\n",
       "      <td>0</td>\n",
       "      <td>0</td>\n",
       "      <td>0</td>\n",
       "      <td>0</td>\n",
       "      <td>0</td>\n",
       "      <td>0</td>\n",
       "      <td>0</td>\n",
       "      <td>0</td>\n",
       "      <td>0</td>\n",
       "    </tr>\n",
       "    <tr>\n",
       "      <th>2845338</th>\n",
       "      <td>0.0</td>\n",
       "      <td>32.76696</td>\n",
       "      <td>-117.14806</td>\n",
       "      <td>32.76555</td>\n",
       "      <td>-117.15363</td>\n",
       "      <td>0.338</td>\n",
       "      <td>R</td>\n",
       "      <td>70.0</td>\n",
       "      <td>70.0</td>\n",
       "      <td>73.0</td>\n",
       "      <td>...</td>\n",
       "      <td>0</td>\n",
       "      <td>0</td>\n",
       "      <td>0</td>\n",
       "      <td>0</td>\n",
       "      <td>0</td>\n",
       "      <td>0</td>\n",
       "      <td>0</td>\n",
       "      <td>0</td>\n",
       "      <td>0</td>\n",
       "      <td>0</td>\n",
       "    </tr>\n",
       "    <tr>\n",
       "      <th>2845339</th>\n",
       "      <td>0.0</td>\n",
       "      <td>33.77545</td>\n",
       "      <td>-117.84779</td>\n",
       "      <td>33.77740</td>\n",
       "      <td>-117.85727</td>\n",
       "      <td>0.561</td>\n",
       "      <td>R</td>\n",
       "      <td>73.0</td>\n",
       "      <td>73.0</td>\n",
       "      <td>64.0</td>\n",
       "      <td>...</td>\n",
       "      <td>0</td>\n",
       "      <td>0</td>\n",
       "      <td>0</td>\n",
       "      <td>0</td>\n",
       "      <td>0</td>\n",
       "      <td>0</td>\n",
       "      <td>0</td>\n",
       "      <td>0</td>\n",
       "      <td>0</td>\n",
       "      <td>0</td>\n",
       "    </tr>\n",
       "    <tr>\n",
       "      <th>2845340</th>\n",
       "      <td>0.0</td>\n",
       "      <td>33.99246</td>\n",
       "      <td>-118.40302</td>\n",
       "      <td>33.98311</td>\n",
       "      <td>-118.39565</td>\n",
       "      <td>0.772</td>\n",
       "      <td>R</td>\n",
       "      <td>71.0</td>\n",
       "      <td>71.0</td>\n",
       "      <td>81.0</td>\n",
       "      <td>...</td>\n",
       "      <td>0</td>\n",
       "      <td>0</td>\n",
       "      <td>0</td>\n",
       "      <td>0</td>\n",
       "      <td>0</td>\n",
       "      <td>0</td>\n",
       "      <td>0</td>\n",
       "      <td>0</td>\n",
       "      <td>0</td>\n",
       "      <td>0</td>\n",
       "    </tr>\n",
       "    <tr>\n",
       "      <th>2845341</th>\n",
       "      <td>0.0</td>\n",
       "      <td>34.13393</td>\n",
       "      <td>-117.23092</td>\n",
       "      <td>34.13736</td>\n",
       "      <td>-117.23934</td>\n",
       "      <td>0.537</td>\n",
       "      <td>R</td>\n",
       "      <td>79.0</td>\n",
       "      <td>79.0</td>\n",
       "      <td>47.0</td>\n",
       "      <td>...</td>\n",
       "      <td>0</td>\n",
       "      <td>0</td>\n",
       "      <td>0</td>\n",
       "      <td>0</td>\n",
       "      <td>0</td>\n",
       "      <td>0</td>\n",
       "      <td>0</td>\n",
       "      <td>0</td>\n",
       "      <td>0</td>\n",
       "      <td>0</td>\n",
       "    </tr>\n",
       "  </tbody>\n",
       "</table>\n",
       "<p>5 rows × 125 columns</p>\n",
       "</div>"
      ],
      "text/plain": [
       "         Severity  Start_Lat  Start_Lng   End_Lat    End_Lng  Distance(mi)  \\\n",
       "2845337       0.0   34.00248 -117.37936  33.99888 -117.37094         0.543   \n",
       "2845338       0.0   32.76696 -117.14806  32.76555 -117.15363         0.338   \n",
       "2845339       0.0   33.77545 -117.84779  33.77740 -117.85727         0.561   \n",
       "2845340       0.0   33.99246 -118.40302  33.98311 -118.39565         0.772   \n",
       "2845341       0.0   34.13393 -117.23092  34.13736 -117.23934         0.537   \n",
       "\n",
       "        Side  Temperature  Wind_Chill  Humidity  ...  Thunder / Windy  \\\n",
       "2845337    R         86.0        86.0      40.0  ...                0   \n",
       "2845338    R         70.0        70.0      73.0  ...                0   \n",
       "2845339    R         73.0        73.0      64.0  ...                0   \n",
       "2845340    R         71.0        71.0      81.0  ...                0   \n",
       "2845341    R         79.0        79.0      47.0  ...                0   \n",
       "\n",
       "         Thunder and Hail / Windy  Thunder in the Vicinity  Thunderstorm  \\\n",
       "2845337                         0                        0             0   \n",
       "2845338                         0                        0             0   \n",
       "2845339                         0                        0             0   \n",
       "2845340                         0                        0             0   \n",
       "2845341                         0                        0             0   \n",
       "\n",
       "         Thunderstorms and Rain  Tornado  Volcanic Ash  Widespread Dust  \\\n",
       "2845337                       0        0             0                0   \n",
       "2845338                       0        0             0                0   \n",
       "2845339                       0        0             0                0   \n",
       "2845340                       0        0             0                0   \n",
       "2845341                       0        0             0                0   \n",
       "\n",
       "         Wintry Mix  Wintry Mix / Windy  \n",
       "2845337           0                   0  \n",
       "2845338           0                   0  \n",
       "2845339           0                   0  \n",
       "2845340           0                   0  \n",
       "2845341           0                   0  \n",
       "\n",
       "[5 rows x 125 columns]"
      ]
     },
     "execution_count": 30,
     "metadata": {},
     "output_type": "execute_result"
    }
   ],
   "source": [
    "accidents_without_null.tail(5)"
   ]
  },
  {
   "cell_type": "code",
   "execution_count": 31,
   "metadata": {},
   "outputs": [],
   "source": [
    "def examine_column_distribution(column):\n",
    "    print(\"the feature \" + str(column) + \" is distributed this way: \")\n",
    "    print(accidents_without_null[column].value_counts())\n"
   ]
  },
  {
   "attachments": {},
   "cell_type": "markdown",
   "metadata": {},
   "source": [
    "Regarding the features about twilights, they are different ways of considering the start of the day by different point of views:\n",
    "\n",
    "Civil Twilight: morning civil twilight begins when the geometric center of the sun is 6 degrees below the horizon, and ends at sunrise\n",
    "Nautical Twilight: Begins in the morning, or ends in the evening, when the geometric center of the sun is 12 degrees below the horizon\n",
    "Astronomical Twilight: Begins in the morning, or ends in the evening, when the geometric center of the sun is 18 degrees below the horizon\n",
    "\n",
    "The measure that is more fit to us is actually the Sunrise Sunset, which takes into account the start of the day by the rising of the sun. Therefore the Sunrise Sunset is kept while the others are dropped."
   ]
  },
  {
   "cell_type": "code",
   "execution_count": 32,
   "metadata": {},
   "outputs": [],
   "source": [
    "def convert_boolean_column_to_int(column,df):\n",
    "    temp = list(map(int,df[column]))\n",
    "    df[column] = temp"
   ]
  },
  {
   "cell_type": "code",
   "execution_count": 33,
   "metadata": {},
   "outputs": [],
   "source": [
    "columns_to_convert = ['Amenity','Crossing','Junction','Railway','Station','Stop','Traffic_Signal']\n",
    "\n",
    "for column_target in columns_to_convert:\n",
    "    convert_boolean_column_to_int(column_target,accidents_without_null)\n",
    "    convert_boolean_column_to_int(column_target,X_train)\n",
    "    convert_boolean_column_to_int(column_target,X_test)"
   ]
  },
  {
   "cell_type": "code",
   "execution_count": 34,
   "metadata": {},
   "outputs": [],
   "source": [
    "def day_night(record):\n",
    "    if record == 'Night':\n",
    "        return 0\n",
    "    elif record == 'Day':\n",
    "        return 1\n",
    "\n",
    "temp = list(map(day_night,accidents_without_null['Sunrise_Sunset']))\n",
    "accidents_without_null['Sunrise_Sunset'] = temp\n",
    "temp = list(map(day_night,X_train['Sunrise_Sunset']))\n",
    "X_train['Sunrise_Sunset'] = temp\n",
    "temp = list(map(day_night,X_test['Sunrise_Sunset']))\n",
    "X_test['Sunrise_Sunset'] = temp"
   ]
  },
  {
   "cell_type": "code",
   "execution_count": 35,
   "metadata": {},
   "outputs": [],
   "source": [
    "def left_right(record):\n",
    "    if record == 'L':\n",
    "        return 0\n",
    "    elif record == 'R':\n",
    "        return 1\n",
    "\n",
    "temp = list(map(left_right,accidents_without_null['Side']))\n",
    "accidents_without_null['Side'] = temp\n",
    "temp = list(map(left_right,X_train['Side']))\n",
    "X_train['Side'] = temp\n",
    "temp = list(map(left_right,X_test['Side']))\n",
    "X_test['Side'] = temp"
   ]
  },
  {
   "cell_type": "code",
   "execution_count": 36,
   "metadata": {},
   "outputs": [
    {
     "data": {
      "text/plain": [
       "(606668, 125)"
      ]
     },
     "execution_count": 36,
     "metadata": {},
     "output_type": "execute_result"
    }
   ],
   "source": [
    "accidents_without_null.shape"
   ]
  },
  {
   "cell_type": "code",
   "execution_count": 37,
   "metadata": {},
   "outputs": [
    {
     "data": {
      "text/plain": [
       "(151667,)"
      ]
     },
     "execution_count": 37,
     "metadata": {},
     "output_type": "execute_result"
    }
   ],
   "source": [
    "X_train.shape\n",
    "X_test.shape\n",
    "y_train.shape\n",
    "y_test.shape"
   ]
  },
  {
   "cell_type": "code",
   "execution_count": 38,
   "metadata": {},
   "outputs": [],
   "source": [
    "import pickle\n",
    " \n",
    "class MyClass():\n",
    "    def __init__(self, param):\n",
    "        self.param = param\n",
    " \n",
    "def save_object(obj,filename):\n",
    "    try:\n",
    "        with open(filename, \"wb\") as f:\n",
    "            pickle.dump(obj, f, protocol=pickle.HIGHEST_PROTOCOL)\n",
    "    except Exception as ex:\n",
    "        print(\"Error during pickling object (Possibly unsupported):\", ex)\n",
    "\n",
    "save_object(X_train,\"X_train.pickle\")\n",
    "save_object(X_test,\"X_test.pickle\")\n",
    "save_object(y_train,\"y_train.pickle\")\n",
    "save_object(y_test,\"y_test.pickle\")"
   ]
  },
  {
   "cell_type": "code",
   "execution_count": 39,
   "metadata": {},
   "outputs": [],
   "source": [
    "accidents_without_null.to_csv('pre-processed_dataset_no_state.csv')"
   ]
  }
 ],
 "metadata": {
  "kernelspec": {
   "display_name": "dmml",
   "language": "python",
   "name": "python3"
  },
  "language_info": {
   "codemirror_mode": {
    "name": "ipython",
    "version": 3
   },
   "file_extension": ".py",
   "mimetype": "text/x-python",
   "name": "python",
   "nbconvert_exporter": "python",
   "pygments_lexer": "ipython3",
   "version": "3.9.13"
  },
  "orig_nbformat": 4
 },
 "nbformat": 4,
 "nbformat_minor": 2
}
